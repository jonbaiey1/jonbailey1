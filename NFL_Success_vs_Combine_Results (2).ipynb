{
  "nbformat": 4,
  "nbformat_minor": 0,
  "metadata": {
    "colab": {
      "name": "NFL-Success-vs.-Combine-Results",
      "provenance": [],
      "collapsed_sections": []
    },
    "kernelspec": {
      "name": "python3",
      "display_name": "Python 3"
    },
    "language_info": {
      "name": "python"
    }
  },
  "cells": [
    {
      "cell_type": "markdown",
      "source": [
        "# The Importance of Combine Performance in Determining NFL Success\n",
        "As a diehard fan of the Baltimore Ravens, I wish we knew which college prospects were going to become the next NFL superstars. This desire to predict the future is common among all NFL coaching staffs, players, and other fans alike. Franchises spend millions of dollars on scouting every year, yet there are always \"busts\" that seemingly could have never been predicted. How do some of the best scouts that money can buy somehow seem to mess up so frequently? \n",
        "\n",
        "One of the most important factors that NFL franchises take into account before the draft is the combine. The combine is a four day, invite only event where NFL prospects have the opportunity to demonstrate their athletic prowess by participating in various events. Participants' performance has a major impact on how both the media and scouts view them. Players can be taken much higher than expected or simply get a team to notice them based exclusively on their combine performance. Disregarding how NFL franchises interpret the draft, I want to examine the correlation between combine performance and NFL success so I can make my own opinions on future prospects.\n",
        "\n",
        "Before beginning my exploration of this relationship, I first must gather and process data from past NFL seasons and combines. This cleaned data will then be my foundation to start conducting exploratory analysis and other testing. The first data set I'm using contains official numbers and times from the NFL combines dating back to 2000. The other data set I'm using contains NFL players' performances from the year they were drafted until 2017. My analysis will focus on defensive backs(cornerbacks and safeties) and outside linebackers. These positions are known for being physically demanding, which is ideal since the combine is supposed to represent a prospect's athletic ability.   "
      ],
      "metadata": {
        "id": "wvMcCSPsGzq_"
      }
    },
    {
      "cell_type": "markdown",
      "source": [
        "# Data Scraping\n",
        "Sources: [Combine Scores](https://www.kaggle.com/datasets/savvastj/nfl-combine-data) and [NFL Statistics](https://www.kaggle.com/datasets/kendallgillies/nflstatistics?select=Career_Stats_Defensive.csv)"
      ],
      "metadata": {
        "id": "x8nWu3d5TZXk"
      }
    },
    {
      "cell_type": "code",
      "execution_count": 1,
      "metadata": {
        "colab": {
          "base_uri": "https://localhost:8080/",
          "height": 424
        },
        "id": "A4OuI7TItcVt",
        "outputId": "6ff225df-318f-488d-e577-5b5197871282"
      },
      "outputs": [
        {
          "output_type": "execute_result",
          "data": {
            "text/plain": [
              "      index               Player  Pos  Ht   Wt Forty Vertical Bench BroadJump  \\\n",
              "0         1         JOHN ABRAHAM  OLB  76  252  4.55                            \n",
              "1         5     RASHARD ANDERSON   CB  74  206  4.55       34             123   \n",
              "2         7      LAVAR ARRINGTON  OLB  75  250  4.53                            \n",
              "3        10        REGGIE AUSTIN   CB  69  175  4.44       35    17       119   \n",
              "4        13       RASHIDI BARNES   FS  72  208  4.62       35    10       114   \n",
              "...     ...                  ...  ...  ..  ...   ...      ...   ...       ...   \n",
              "1010   5870         TIM WILLIAMS  OLB  75  244  4.68     33.5             124   \n",
              "1011   5877        QUINCY WILSON   CB  73  211  4.54       32    14       118   \n",
              "1012   5879        HOWARD WILSON   CB  73  184  4.57     33.5             119   \n",
              "1013   5880  AHKELLO WITHERSPOON   CB  75  198  4.45     40.5             127   \n",
              "1014   5881         XAVIER WOODS   SS  71  197  4.54     33.5    19       122   \n",
              "\n",
              "      Cone Shuttle  Year Round Pick  \n",
              "0                   2000     1   13  \n",
              "1     7.18    4.15  2000     1   23  \n",
              "2                   2000     1    2  \n",
              "3     7.03    4.14  2000     4  125  \n",
              "4     6.92    4.32  2000     7  225  \n",
              "...    ...     ...   ...   ...  ...  \n",
              "1010  7.36    4.57  2017     3   78  \n",
              "1011  6.86    4.02  2017     2   46  \n",
              "1012  6.68    3.94  2017     4  126  \n",
              "1013  6.93    4.13  2017     3   66  \n",
              "1014  6.72    4.13  2017     6  191  \n",
              "\n",
              "[1015 rows x 14 columns]"
            ],
            "text/html": [
              "\n",
              "  <div id=\"df-5b139c63-6240-4c3e-9926-80c8011a7745\">\n",
              "    <div class=\"colab-df-container\">\n",
              "      <div>\n",
              "<style scoped>\n",
              "    .dataframe tbody tr th:only-of-type {\n",
              "        vertical-align: middle;\n",
              "    }\n",
              "\n",
              "    .dataframe tbody tr th {\n",
              "        vertical-align: top;\n",
              "    }\n",
              "\n",
              "    .dataframe thead th {\n",
              "        text-align: right;\n",
              "    }\n",
              "</style>\n",
              "<table border=\"1\" class=\"dataframe\">\n",
              "  <thead>\n",
              "    <tr style=\"text-align: right;\">\n",
              "      <th></th>\n",
              "      <th>index</th>\n",
              "      <th>Player</th>\n",
              "      <th>Pos</th>\n",
              "      <th>Ht</th>\n",
              "      <th>Wt</th>\n",
              "      <th>Forty</th>\n",
              "      <th>Vertical</th>\n",
              "      <th>Bench</th>\n",
              "      <th>BroadJump</th>\n",
              "      <th>Cone</th>\n",
              "      <th>Shuttle</th>\n",
              "      <th>Year</th>\n",
              "      <th>Round</th>\n",
              "      <th>Pick</th>\n",
              "    </tr>\n",
              "  </thead>\n",
              "  <tbody>\n",
              "    <tr>\n",
              "      <th>0</th>\n",
              "      <td>1</td>\n",
              "      <td>JOHN ABRAHAM</td>\n",
              "      <td>OLB</td>\n",
              "      <td>76</td>\n",
              "      <td>252</td>\n",
              "      <td>4.55</td>\n",
              "      <td></td>\n",
              "      <td></td>\n",
              "      <td></td>\n",
              "      <td></td>\n",
              "      <td></td>\n",
              "      <td>2000</td>\n",
              "      <td>1</td>\n",
              "      <td>13</td>\n",
              "    </tr>\n",
              "    <tr>\n",
              "      <th>1</th>\n",
              "      <td>5</td>\n",
              "      <td>RASHARD ANDERSON</td>\n",
              "      <td>CB</td>\n",
              "      <td>74</td>\n",
              "      <td>206</td>\n",
              "      <td>4.55</td>\n",
              "      <td>34</td>\n",
              "      <td></td>\n",
              "      <td>123</td>\n",
              "      <td>7.18</td>\n",
              "      <td>4.15</td>\n",
              "      <td>2000</td>\n",
              "      <td>1</td>\n",
              "      <td>23</td>\n",
              "    </tr>\n",
              "    <tr>\n",
              "      <th>2</th>\n",
              "      <td>7</td>\n",
              "      <td>LAVAR ARRINGTON</td>\n",
              "      <td>OLB</td>\n",
              "      <td>75</td>\n",
              "      <td>250</td>\n",
              "      <td>4.53</td>\n",
              "      <td></td>\n",
              "      <td></td>\n",
              "      <td></td>\n",
              "      <td></td>\n",
              "      <td></td>\n",
              "      <td>2000</td>\n",
              "      <td>1</td>\n",
              "      <td>2</td>\n",
              "    </tr>\n",
              "    <tr>\n",
              "      <th>3</th>\n",
              "      <td>10</td>\n",
              "      <td>REGGIE AUSTIN</td>\n",
              "      <td>CB</td>\n",
              "      <td>69</td>\n",
              "      <td>175</td>\n",
              "      <td>4.44</td>\n",
              "      <td>35</td>\n",
              "      <td>17</td>\n",
              "      <td>119</td>\n",
              "      <td>7.03</td>\n",
              "      <td>4.14</td>\n",
              "      <td>2000</td>\n",
              "      <td>4</td>\n",
              "      <td>125</td>\n",
              "    </tr>\n",
              "    <tr>\n",
              "      <th>4</th>\n",
              "      <td>13</td>\n",
              "      <td>RASHIDI BARNES</td>\n",
              "      <td>FS</td>\n",
              "      <td>72</td>\n",
              "      <td>208</td>\n",
              "      <td>4.62</td>\n",
              "      <td>35</td>\n",
              "      <td>10</td>\n",
              "      <td>114</td>\n",
              "      <td>6.92</td>\n",
              "      <td>4.32</td>\n",
              "      <td>2000</td>\n",
              "      <td>7</td>\n",
              "      <td>225</td>\n",
              "    </tr>\n",
              "    <tr>\n",
              "      <th>...</th>\n",
              "      <td>...</td>\n",
              "      <td>...</td>\n",
              "      <td>...</td>\n",
              "      <td>...</td>\n",
              "      <td>...</td>\n",
              "      <td>...</td>\n",
              "      <td>...</td>\n",
              "      <td>...</td>\n",
              "      <td>...</td>\n",
              "      <td>...</td>\n",
              "      <td>...</td>\n",
              "      <td>...</td>\n",
              "      <td>...</td>\n",
              "      <td>...</td>\n",
              "    </tr>\n",
              "    <tr>\n",
              "      <th>1010</th>\n",
              "      <td>5870</td>\n",
              "      <td>TIM WILLIAMS</td>\n",
              "      <td>OLB</td>\n",
              "      <td>75</td>\n",
              "      <td>244</td>\n",
              "      <td>4.68</td>\n",
              "      <td>33.5</td>\n",
              "      <td></td>\n",
              "      <td>124</td>\n",
              "      <td>7.36</td>\n",
              "      <td>4.57</td>\n",
              "      <td>2017</td>\n",
              "      <td>3</td>\n",
              "      <td>78</td>\n",
              "    </tr>\n",
              "    <tr>\n",
              "      <th>1011</th>\n",
              "      <td>5877</td>\n",
              "      <td>QUINCY WILSON</td>\n",
              "      <td>CB</td>\n",
              "      <td>73</td>\n",
              "      <td>211</td>\n",
              "      <td>4.54</td>\n",
              "      <td>32</td>\n",
              "      <td>14</td>\n",
              "      <td>118</td>\n",
              "      <td>6.86</td>\n",
              "      <td>4.02</td>\n",
              "      <td>2017</td>\n",
              "      <td>2</td>\n",
              "      <td>46</td>\n",
              "    </tr>\n",
              "    <tr>\n",
              "      <th>1012</th>\n",
              "      <td>5879</td>\n",
              "      <td>HOWARD WILSON</td>\n",
              "      <td>CB</td>\n",
              "      <td>73</td>\n",
              "      <td>184</td>\n",
              "      <td>4.57</td>\n",
              "      <td>33.5</td>\n",
              "      <td></td>\n",
              "      <td>119</td>\n",
              "      <td>6.68</td>\n",
              "      <td>3.94</td>\n",
              "      <td>2017</td>\n",
              "      <td>4</td>\n",
              "      <td>126</td>\n",
              "    </tr>\n",
              "    <tr>\n",
              "      <th>1013</th>\n",
              "      <td>5880</td>\n",
              "      <td>AHKELLO WITHERSPOON</td>\n",
              "      <td>CB</td>\n",
              "      <td>75</td>\n",
              "      <td>198</td>\n",
              "      <td>4.45</td>\n",
              "      <td>40.5</td>\n",
              "      <td></td>\n",
              "      <td>127</td>\n",
              "      <td>6.93</td>\n",
              "      <td>4.13</td>\n",
              "      <td>2017</td>\n",
              "      <td>3</td>\n",
              "      <td>66</td>\n",
              "    </tr>\n",
              "    <tr>\n",
              "      <th>1014</th>\n",
              "      <td>5881</td>\n",
              "      <td>XAVIER WOODS</td>\n",
              "      <td>SS</td>\n",
              "      <td>71</td>\n",
              "      <td>197</td>\n",
              "      <td>4.54</td>\n",
              "      <td>33.5</td>\n",
              "      <td>19</td>\n",
              "      <td>122</td>\n",
              "      <td>6.72</td>\n",
              "      <td>4.13</td>\n",
              "      <td>2017</td>\n",
              "      <td>6</td>\n",
              "      <td>191</td>\n",
              "    </tr>\n",
              "  </tbody>\n",
              "</table>\n",
              "<p>1015 rows × 14 columns</p>\n",
              "</div>\n",
              "      <button class=\"colab-df-convert\" onclick=\"convertToInteractive('df-5b139c63-6240-4c3e-9926-80c8011a7745')\"\n",
              "              title=\"Convert this dataframe to an interactive table.\"\n",
              "              style=\"display:none;\">\n",
              "        \n",
              "  <svg xmlns=\"http://www.w3.org/2000/svg\" height=\"24px\"viewBox=\"0 0 24 24\"\n",
              "       width=\"24px\">\n",
              "    <path d=\"M0 0h24v24H0V0z\" fill=\"none\"/>\n",
              "    <path d=\"M18.56 5.44l.94 2.06.94-2.06 2.06-.94-2.06-.94-.94-2.06-.94 2.06-2.06.94zm-11 1L8.5 8.5l.94-2.06 2.06-.94-2.06-.94L8.5 2.5l-.94 2.06-2.06.94zm10 10l.94 2.06.94-2.06 2.06-.94-2.06-.94-.94-2.06-.94 2.06-2.06.94z\"/><path d=\"M17.41 7.96l-1.37-1.37c-.4-.4-.92-.59-1.43-.59-.52 0-1.04.2-1.43.59L10.3 9.45l-7.72 7.72c-.78.78-.78 2.05 0 2.83L4 21.41c.39.39.9.59 1.41.59.51 0 1.02-.2 1.41-.59l7.78-7.78 2.81-2.81c.8-.78.8-2.07 0-2.86zM5.41 20L4 18.59l7.72-7.72 1.47 1.35L5.41 20z\"/>\n",
              "  </svg>\n",
              "      </button>\n",
              "      \n",
              "  <style>\n",
              "    .colab-df-container {\n",
              "      display:flex;\n",
              "      flex-wrap:wrap;\n",
              "      gap: 12px;\n",
              "    }\n",
              "\n",
              "    .colab-df-convert {\n",
              "      background-color: #E8F0FE;\n",
              "      border: none;\n",
              "      border-radius: 50%;\n",
              "      cursor: pointer;\n",
              "      display: none;\n",
              "      fill: #1967D2;\n",
              "      height: 32px;\n",
              "      padding: 0 0 0 0;\n",
              "      width: 32px;\n",
              "    }\n",
              "\n",
              "    .colab-df-convert:hover {\n",
              "      background-color: #E2EBFA;\n",
              "      box-shadow: 0px 1px 2px rgba(60, 64, 67, 0.3), 0px 1px 3px 1px rgba(60, 64, 67, 0.15);\n",
              "      fill: #174EA6;\n",
              "    }\n",
              "\n",
              "    [theme=dark] .colab-df-convert {\n",
              "      background-color: #3B4455;\n",
              "      fill: #D2E3FC;\n",
              "    }\n",
              "\n",
              "    [theme=dark] .colab-df-convert:hover {\n",
              "      background-color: #434B5C;\n",
              "      box-shadow: 0px 1px 3px 1px rgba(0, 0, 0, 0.15);\n",
              "      filter: drop-shadow(0px 1px 2px rgba(0, 0, 0, 0.3));\n",
              "      fill: #FFFFFF;\n",
              "    }\n",
              "  </style>\n",
              "\n",
              "      <script>\n",
              "        const buttonEl =\n",
              "          document.querySelector('#df-5b139c63-6240-4c3e-9926-80c8011a7745 button.colab-df-convert');\n",
              "        buttonEl.style.display =\n",
              "          google.colab.kernel.accessAllowed ? 'block' : 'none';\n",
              "\n",
              "        async function convertToInteractive(key) {\n",
              "          const element = document.querySelector('#df-5b139c63-6240-4c3e-9926-80c8011a7745');\n",
              "          const dataTable =\n",
              "            await google.colab.kernel.invokeFunction('convertToInteractive',\n",
              "                                                     [key], {});\n",
              "          if (!dataTable) return;\n",
              "\n",
              "          const docLinkHtml = 'Like what you see? Visit the ' +\n",
              "            '<a target=\"_blank\" href=https://colab.research.google.com/notebooks/data_table.ipynb>data table notebook</a>'\n",
              "            + ' to learn more about interactive tables.';\n",
              "          element.innerHTML = '';\n",
              "          dataTable['output_type'] = 'display_data';\n",
              "          await google.colab.output.renderOutput(dataTable, element);\n",
              "          const docLink = document.createElement('div');\n",
              "          docLink.innerHTML = docLinkHtml;\n",
              "          element.appendChild(docLink);\n",
              "        }\n",
              "      </script>\n",
              "    </div>\n",
              "  </div>\n",
              "  "
            ]
          },
          "metadata": {},
          "execution_count": 1
        }
      ],
      "source": [
        "import pandas as pd\n",
        "\n",
        "# Allowing access to google sheet containing data\n",
        "from google.colab import auth\n",
        "auth.authenticate_user()\n",
        "\n",
        "import gspread\n",
        "from google.auth import default\n",
        "creds, _ = default()\n",
        "\n",
        "gc = gspread.authorize(creds)\n",
        "\n",
        "# Opening and copying combine data into a dataframe\n",
        "worksheet = gc.open('combine_data_sheet').sheet1\n",
        "\n",
        "rows = worksheet.get_all_values()\n",
        "\n",
        "combine_data = pd.DataFrame.from_records(rows)\n",
        "\n",
        "# Renaming columns\n",
        "combine_data.columns = ['Player', 'Pos', 'Ht', 'Wt', 'Forty', 'Vertical', 'Bench', 'BroadJump', 'Cone', 'Shuttle', 'Year', 'Pfr_ID', 'AV', 'Team', 'Round', 'Pick']\n",
        "combine_data = combine_data.drop(labels = 0, axis = 0)\n",
        "\n",
        "# Removing unnecessary columns\n",
        "combine_data.drop(combine_data.columns[[11, 12, 13]], axis = 1, inplace = True)\n",
        "\n",
        "# Removing undrafted players\n",
        "for index, row in combine_data.iterrows():\n",
        "    if(row['Round'] == ''):\n",
        "        combine_data.drop(index, inplace=True)\n",
        "\n",
        "# Isolating only defensive backs and outside linebackers\n",
        "for index, row in combine_data.iterrows():\n",
        "    if ((row['Pos'] ==  'CB' or row['Pos'] == 'SS' or row['Pos'] == 'FS' or row['Pos'] == 'OLB') == False) :\n",
        "          combine_data.drop(index, inplace = True)\n",
        "\n",
        "# Changing player names to all upper case\n",
        "for index, row in combine_data.iterrows():\n",
        "    name = row['Player']\n",
        "    lc_name = row['Player'].upper()\n",
        "    combine_data['Player'] = combine_data['Player'].replace([name], lc_name)\n",
        "\n",
        "    # Removing suffixes to names\n",
        "    last_three = ''\n",
        "    copy_name = name\n",
        "    for i in range(3):\n",
        "        last_three = last_three + copy_name[-1]\n",
        "        copy_name = copy_name[:-1]\n",
        "\n",
        "    last_three = last_three[::-1]\n",
        "\n",
        "    if last_three == '-02' or last_three == '-03' or last_three == '-04':\n",
        "        new_name = row['Player']\n",
        "        new_name = new_name[:-1]\n",
        "        new_name = new_name[:-1]\n",
        "        new_name = new_name[:-1]\n",
        "        combine_data['Player'] = combine_data['Player'].replace([lc_name], new_name)\n",
        "\n",
        "\n",
        "combine_data.reset_index(inplace = True)\n",
        "\n",
        "combine_data"
      ]
    },
    {
      "cell_type": "markdown",
      "source": [
        "The current state of this data is a complete disaster. There are missing cells, unnecessary columns, and far too many entries. Cleaning the data will make it easier to interpret and manipulate later on."
      ],
      "metadata": {
        "id": "HTh2Us6ShFYN"
      }
    },
    {
      "cell_type": "code",
      "source": [
        "# Setting each empty data point to 0\n",
        "for index, row in combine_data.iterrows():\n",
        "    combine_data['Forty'] = combine_data['Forty'].replace([''], '0')\n",
        "    combine_data['Vertical'] = combine_data['Vertical'].replace([''],'0')\n",
        "    combine_data['Bench'] = combine_data['Bench'].replace([''],'0')\n",
        "    combine_data['BroadJump'] = combine_data['BroadJump'].replace([''],'0')\n",
        "    combine_data['Cone'] = combine_data['Cone'].replace([''],'0')\n",
        "    combine_data['Shuttle'] = combine_data['Shuttle'].replace([''],'0')\n",
        "\n",
        "# Creating seperate dataframes for each position\n",
        "db_combine = pd.DataFrame(columns = ['Player', 'Pos', 'Ht', 'Wt', 'Forty', 'Vertical', 'Bench', 'BroadJump', 'Cone', 'Shuttle', 'Year', 'Round', 'Pick'])\n",
        "olb_combine = pd.DataFrame(columns = ['Player', 'Pos', 'Ht', 'Wt', 'Forty', 'Vertical', 'Bench', 'BroadJump', 'Cone', 'Shuttle', 'Year', 'Round', 'Pick'])\n",
        "\n",
        "# Isolating players drafted from 2008 to 2013\n",
        "for index, row in combine_data.iterrows():\n",
        "    if int(row['Year']) < 2008 or int(row['Year']) > 2013:\n",
        "        combine_data.drop(index, inplace = True)\n",
        "\n",
        "for index, row in combine_data.iterrows():\n",
        "    position = row['Pos']\n",
        "    if position == 'SS' or position == 'FS' or position == 'CB':\n",
        "        db_combine.loc[len(db_combine.index)] = [row['Player'], position, row['Ht'], row['Wt'], row['Forty'], row['Vertical'], row['Bench'], row['BroadJump'], row['Cone'], row['Shuttle'], row['Year'], row['Round'], row['Pick']]\n",
        "    else:\n",
        "        olb_combine.loc[len(olb_combine.index)] = [row['Player'], position, row['Ht'], row['Wt'], row['Forty'], row['Vertical'], row['Bench'], row['BroadJump'], row['Cone'], row['Shuttle'], row['Year'], row['Round'], row['Pick']]\n"
      ],
      "metadata": {
        "id": "sJfVaKXRBCPW"
      },
      "execution_count": 2,
      "outputs": []
    },
    {
      "cell_type": "code",
      "source": [
        "# Opening and copying player's NFL statistics into a dataframe\n",
        "worksheet2 = gc.open('defensive_data').sheet1\n",
        "\n",
        "rows2 = worksheet2.get_all_values()\n",
        "\n",
        "defensive_data = pd.DataFrame.from_records(rows2)\n",
        "\n",
        "# Dropping unnecessary columns and renaming\n",
        "defensive_data.drop(defensive_data.columns[[0, 4, 6, 7, 10, 13, 14, 15, 16]], axis = 1, inplace = True)\n",
        "defensive_data.columns = ['Player', 'Pos', 'Year', 'GamesPlayed', 'TotalTackles', 'Sacks', 'PassesDefended', 'Ints']\n",
        "defensive_data = defensive_data.drop(labels = 0, axis = 0)\n",
        "\n",
        "defensive_data"
      ],
      "metadata": {
        "colab": {
          "base_uri": "https://localhost:8080/",
          "height": 424
        },
        "id": "wuBOQEFyqfhD",
        "outputId": "b242cb97-01ae-489b-9142-7ced0a34dac7"
      },
      "execution_count": 3,
      "outputs": [
        {
          "output_type": "execute_result",
          "data": {
            "text/plain": [
              "               Player Pos  Year GamesPlayed TotalTackles Sacks PassesDefended  \\\n",
              "1      Johnson, Quinn      2013           4           --    --             --   \n",
              "2      Johnson, Quinn      2012          16            0     0              0   \n",
              "3      Johnson, Quinn      2011           4           --    --             --   \n",
              "4      Johnson, Quinn      2011           0           --    --             --   \n",
              "5      Johnson, Quinn      2010          11            0     0              0   \n",
              "...               ...  ..   ...         ...          ...   ...            ...   \n",
              "23994   Smith, Torrey  WR  2012          16            0     0              0   \n",
              "23995   Smith, Torrey  WR  2011          16            0     0              0   \n",
              "23996    Folsom, J.D.      2009           2            0     0              0   \n",
              "23997   Reader, Jamie      2001          16            0     0              0   \n",
              "23998  Johnson, Byron      1987           3           --     2              0   \n",
              "\n",
              "      Ints  \n",
              "1       --  \n",
              "2       --  \n",
              "3       --  \n",
              "4       --  \n",
              "5       --  \n",
              "...    ...  \n",
              "23994   --  \n",
              "23995   --  \n",
              "23996   --  \n",
              "23997   --  \n",
              "23998   --  \n",
              "\n",
              "[23998 rows x 8 columns]"
            ],
            "text/html": [
              "\n",
              "  <div id=\"df-f897147e-dcf0-4f3a-9733-e450f1158f00\">\n",
              "    <div class=\"colab-df-container\">\n",
              "      <div>\n",
              "<style scoped>\n",
              "    .dataframe tbody tr th:only-of-type {\n",
              "        vertical-align: middle;\n",
              "    }\n",
              "\n",
              "    .dataframe tbody tr th {\n",
              "        vertical-align: top;\n",
              "    }\n",
              "\n",
              "    .dataframe thead th {\n",
              "        text-align: right;\n",
              "    }\n",
              "</style>\n",
              "<table border=\"1\" class=\"dataframe\">\n",
              "  <thead>\n",
              "    <tr style=\"text-align: right;\">\n",
              "      <th></th>\n",
              "      <th>Player</th>\n",
              "      <th>Pos</th>\n",
              "      <th>Year</th>\n",
              "      <th>GamesPlayed</th>\n",
              "      <th>TotalTackles</th>\n",
              "      <th>Sacks</th>\n",
              "      <th>PassesDefended</th>\n",
              "      <th>Ints</th>\n",
              "    </tr>\n",
              "  </thead>\n",
              "  <tbody>\n",
              "    <tr>\n",
              "      <th>1</th>\n",
              "      <td>Johnson, Quinn</td>\n",
              "      <td></td>\n",
              "      <td>2013</td>\n",
              "      <td>4</td>\n",
              "      <td>--</td>\n",
              "      <td>--</td>\n",
              "      <td>--</td>\n",
              "      <td>--</td>\n",
              "    </tr>\n",
              "    <tr>\n",
              "      <th>2</th>\n",
              "      <td>Johnson, Quinn</td>\n",
              "      <td></td>\n",
              "      <td>2012</td>\n",
              "      <td>16</td>\n",
              "      <td>0</td>\n",
              "      <td>0</td>\n",
              "      <td>0</td>\n",
              "      <td>--</td>\n",
              "    </tr>\n",
              "    <tr>\n",
              "      <th>3</th>\n",
              "      <td>Johnson, Quinn</td>\n",
              "      <td></td>\n",
              "      <td>2011</td>\n",
              "      <td>4</td>\n",
              "      <td>--</td>\n",
              "      <td>--</td>\n",
              "      <td>--</td>\n",
              "      <td>--</td>\n",
              "    </tr>\n",
              "    <tr>\n",
              "      <th>4</th>\n",
              "      <td>Johnson, Quinn</td>\n",
              "      <td></td>\n",
              "      <td>2011</td>\n",
              "      <td>0</td>\n",
              "      <td>--</td>\n",
              "      <td>--</td>\n",
              "      <td>--</td>\n",
              "      <td>--</td>\n",
              "    </tr>\n",
              "    <tr>\n",
              "      <th>5</th>\n",
              "      <td>Johnson, Quinn</td>\n",
              "      <td></td>\n",
              "      <td>2010</td>\n",
              "      <td>11</td>\n",
              "      <td>0</td>\n",
              "      <td>0</td>\n",
              "      <td>0</td>\n",
              "      <td>--</td>\n",
              "    </tr>\n",
              "    <tr>\n",
              "      <th>...</th>\n",
              "      <td>...</td>\n",
              "      <td>...</td>\n",
              "      <td>...</td>\n",
              "      <td>...</td>\n",
              "      <td>...</td>\n",
              "      <td>...</td>\n",
              "      <td>...</td>\n",
              "      <td>...</td>\n",
              "    </tr>\n",
              "    <tr>\n",
              "      <th>23994</th>\n",
              "      <td>Smith, Torrey</td>\n",
              "      <td>WR</td>\n",
              "      <td>2012</td>\n",
              "      <td>16</td>\n",
              "      <td>0</td>\n",
              "      <td>0</td>\n",
              "      <td>0</td>\n",
              "      <td>--</td>\n",
              "    </tr>\n",
              "    <tr>\n",
              "      <th>23995</th>\n",
              "      <td>Smith, Torrey</td>\n",
              "      <td>WR</td>\n",
              "      <td>2011</td>\n",
              "      <td>16</td>\n",
              "      <td>0</td>\n",
              "      <td>0</td>\n",
              "      <td>0</td>\n",
              "      <td>--</td>\n",
              "    </tr>\n",
              "    <tr>\n",
              "      <th>23996</th>\n",
              "      <td>Folsom, J.D.</td>\n",
              "      <td></td>\n",
              "      <td>2009</td>\n",
              "      <td>2</td>\n",
              "      <td>0</td>\n",
              "      <td>0</td>\n",
              "      <td>0</td>\n",
              "      <td>--</td>\n",
              "    </tr>\n",
              "    <tr>\n",
              "      <th>23997</th>\n",
              "      <td>Reader, Jamie</td>\n",
              "      <td></td>\n",
              "      <td>2001</td>\n",
              "      <td>16</td>\n",
              "      <td>0</td>\n",
              "      <td>0</td>\n",
              "      <td>0</td>\n",
              "      <td>--</td>\n",
              "    </tr>\n",
              "    <tr>\n",
              "      <th>23998</th>\n",
              "      <td>Johnson, Byron</td>\n",
              "      <td></td>\n",
              "      <td>1987</td>\n",
              "      <td>3</td>\n",
              "      <td>--</td>\n",
              "      <td>2</td>\n",
              "      <td>0</td>\n",
              "      <td>--</td>\n",
              "    </tr>\n",
              "  </tbody>\n",
              "</table>\n",
              "<p>23998 rows × 8 columns</p>\n",
              "</div>\n",
              "      <button class=\"colab-df-convert\" onclick=\"convertToInteractive('df-f897147e-dcf0-4f3a-9733-e450f1158f00')\"\n",
              "              title=\"Convert this dataframe to an interactive table.\"\n",
              "              style=\"display:none;\">\n",
              "        \n",
              "  <svg xmlns=\"http://www.w3.org/2000/svg\" height=\"24px\"viewBox=\"0 0 24 24\"\n",
              "       width=\"24px\">\n",
              "    <path d=\"M0 0h24v24H0V0z\" fill=\"none\"/>\n",
              "    <path d=\"M18.56 5.44l.94 2.06.94-2.06 2.06-.94-2.06-.94-.94-2.06-.94 2.06-2.06.94zm-11 1L8.5 8.5l.94-2.06 2.06-.94-2.06-.94L8.5 2.5l-.94 2.06-2.06.94zm10 10l.94 2.06.94-2.06 2.06-.94-2.06-.94-.94-2.06-.94 2.06-2.06.94z\"/><path d=\"M17.41 7.96l-1.37-1.37c-.4-.4-.92-.59-1.43-.59-.52 0-1.04.2-1.43.59L10.3 9.45l-7.72 7.72c-.78.78-.78 2.05 0 2.83L4 21.41c.39.39.9.59 1.41.59.51 0 1.02-.2 1.41-.59l7.78-7.78 2.81-2.81c.8-.78.8-2.07 0-2.86zM5.41 20L4 18.59l7.72-7.72 1.47 1.35L5.41 20z\"/>\n",
              "  </svg>\n",
              "      </button>\n",
              "      \n",
              "  <style>\n",
              "    .colab-df-container {\n",
              "      display:flex;\n",
              "      flex-wrap:wrap;\n",
              "      gap: 12px;\n",
              "    }\n",
              "\n",
              "    .colab-df-convert {\n",
              "      background-color: #E8F0FE;\n",
              "      border: none;\n",
              "      border-radius: 50%;\n",
              "      cursor: pointer;\n",
              "      display: none;\n",
              "      fill: #1967D2;\n",
              "      height: 32px;\n",
              "      padding: 0 0 0 0;\n",
              "      width: 32px;\n",
              "    }\n",
              "\n",
              "    .colab-df-convert:hover {\n",
              "      background-color: #E2EBFA;\n",
              "      box-shadow: 0px 1px 2px rgba(60, 64, 67, 0.3), 0px 1px 3px 1px rgba(60, 64, 67, 0.15);\n",
              "      fill: #174EA6;\n",
              "    }\n",
              "\n",
              "    [theme=dark] .colab-df-convert {\n",
              "      background-color: #3B4455;\n",
              "      fill: #D2E3FC;\n",
              "    }\n",
              "\n",
              "    [theme=dark] .colab-df-convert:hover {\n",
              "      background-color: #434B5C;\n",
              "      box-shadow: 0px 1px 3px 1px rgba(0, 0, 0, 0.15);\n",
              "      filter: drop-shadow(0px 1px 2px rgba(0, 0, 0, 0.3));\n",
              "      fill: #FFFFFF;\n",
              "    }\n",
              "  </style>\n",
              "\n",
              "      <script>\n",
              "        const buttonEl =\n",
              "          document.querySelector('#df-f897147e-dcf0-4f3a-9733-e450f1158f00 button.colab-df-convert');\n",
              "        buttonEl.style.display =\n",
              "          google.colab.kernel.accessAllowed ? 'block' : 'none';\n",
              "\n",
              "        async function convertToInteractive(key) {\n",
              "          const element = document.querySelector('#df-f897147e-dcf0-4f3a-9733-e450f1158f00');\n",
              "          const dataTable =\n",
              "            await google.colab.kernel.invokeFunction('convertToInteractive',\n",
              "                                                     [key], {});\n",
              "          if (!dataTable) return;\n",
              "\n",
              "          const docLinkHtml = 'Like what you see? Visit the ' +\n",
              "            '<a target=\"_blank\" href=https://colab.research.google.com/notebooks/data_table.ipynb>data table notebook</a>'\n",
              "            + ' to learn more about interactive tables.';\n",
              "          element.innerHTML = '';\n",
              "          dataTable['output_type'] = 'display_data';\n",
              "          await google.colab.output.renderOutput(dataTable, element);\n",
              "          const docLink = document.createElement('div');\n",
              "          docLink.innerHTML = docLinkHtml;\n",
              "          element.appendChild(docLink);\n",
              "        }\n",
              "      </script>\n",
              "    </div>\n",
              "  </div>\n",
              "  "
            ]
          },
          "metadata": {},
          "execution_count": 3
        }
      ]
    },
    {
      "cell_type": "code",
      "source": [
        "# Isolating only defensive backs and defensive linemen\n",
        "for index, row in defensive_data.iterrows():\n",
        "    if ((row['Pos'] ==  'CB' or row['Pos'] == 'SS' or row['Pos'] == 'FS' or row['Pos'] == 'OLB' or row['Pos'] == 'DB') == False) :\n",
        "          defensive_data.drop(index, inplace = True)\n",
        "\n",
        "# Dropping stats for players drafted before 2008\n",
        "for index, row in defensive_data.iterrows():\n",
        "    if(int(row['Year']) < 2008):\n",
        "        defensive_data.drop(index, inplace = True)\n",
        "\n",
        "# Replacing all non inputted values with 0\n",
        "for index, row in defensive_data.iterrows():\n",
        "    if row['GamesPlayed'] == '--':\n",
        "        row['GamesPlayed'] = 0\n",
        "\n",
        "    if row['TotalTackles'] == '--':\n",
        "        row['TotaTackles'] = 0\n",
        "    \n",
        "    if row['Sacks'] == '--':\n",
        "        row['Sacks'] = 0\n",
        "    \n",
        "    if row['PassesDefended'] == '--':\n",
        "        row['PassesDefended'] = 0\n",
        "    \n",
        "    if row['Ints'] == '--':\n",
        "        row['Ints'] = 0\n",
        "\n",
        "defensive_data.reset_index(inplace = True)"
      ],
      "metadata": {
        "id": "ODndXGZDZD1A"
      },
      "execution_count": 4,
      "outputs": []
    },
    {
      "cell_type": "code",
      "source": [
        "# Replacing the player column with names in first name last name format instead\n",
        "for index, row in defensive_data.iterrows():\n",
        "    name = row['Player']\n",
        "    last, first = name.split(', ')\n",
        "    formatted_name = (first + ' ' + last).upper()\n",
        "    defensive_data['Player'] = defensive_data['Player'].replace([name], formatted_name)\n",
        "\n",
        "# Dropping stats for players without combine testing scores\n",
        "player_names = combine_data['Player']\n",
        "\n",
        "def has_combine_data(name):\n",
        "    for index, row in combine_data.iterrows():\n",
        "        if name == row['Player']:\n",
        "            return True\n",
        "    return False\n",
        "\n",
        "for index, row in defensive_data.iterrows():\n",
        "    if has_combine_data(row['Player']) == False:\n",
        "          defensive_data.drop(index, inplace = True)"
      ],
      "metadata": {
        "id": "Nlc4NJl-RoWt"
      },
      "execution_count": 5,
      "outputs": []
    },
    {
      "cell_type": "code",
      "source": [
        "# Adding up total stats and used rows\n",
        "\n",
        "copy = pd.DataFrame(columns = ['Player', 'Pos', 'GamesPlayed', 'TotalTackles', 'Sacks', 'PassesDefended', 'Ints'])\n",
        "\n",
        "player_names = []\n",
        "\n",
        "for index, row in defensive_data.iterrows():\n",
        "    player = row['Player']\n",
        "    pos = row['Pos']\n",
        "    games = 0\n",
        "    tackles = 0\n",
        "    sacks = 0 \n",
        "    passes_defended = 0\n",
        "    int_count = 0\n",
        "\n",
        "    if pos == 'DB':\n",
        "        pos = 'CB'\n",
        "\n",
        "    for i, r in defensive_data.iterrows():\n",
        "        if player == r['Player']:\n",
        "            # Summing up career statistics for each player\n",
        "            if r['GamesPlayed'] != '--':\n",
        "                games += int(r['GamesPlayed'])\n",
        "            \n",
        "            if r['TotalTackles'] != '--':\n",
        "                tackles += float(r['TotalTackles'])\n",
        "            \n",
        "            if r['Sacks'] != '--':\n",
        "                sacks += float(r['Sacks'])\n",
        "\n",
        "            if r['PassesDefended'] != '--':\n",
        "                passes_defended += int(r['PassesDefended'])\n",
        "\n",
        "            if r['Ints'] != '--':\n",
        "                int_count += int(r['Ints'])\n",
        "          \n",
        "    # Checking if the name has been added already\n",
        "    repeat = False\n",
        "\n",
        "    for x in range(len(player_names)):\n",
        "        if player == player_names[x]:\n",
        "            repeat = True\n",
        "\n",
        "    if repeat == False:\n",
        "        player_names.append(player)\n",
        "        # Adding summed up data to new dataframe\n",
        "        copy.loc[len(copy.index)] = [player, pos, games, tackles, sacks, passes_defended, int_count] \n",
        "copy"
      ],
      "metadata": {
        "colab": {
          "base_uri": "https://localhost:8080/",
          "height": 424
        },
        "id": "E3tBTxwjnBgu",
        "outputId": "b0d3205e-6156-4c76-bc80-47d0836cc21b"
      },
      "execution_count": 6,
      "outputs": [
        {
          "output_type": "execute_result",
          "data": {
            "text/plain": [
              "               Player  Pos GamesPlayed  TotalTackles  Sacks PassesDefended  \\\n",
              "0        KURT COLEMAN   SS         104         118.0    2.0             33   \n",
              "1          NATE ALLEN   CB          93          79.0    4.0             34   \n",
              "2    TRUMAINE JOHNSON   CB          69          38.0    0.0             53   \n",
              "3       PATRICK CHUNG   SS         109         199.0    4.0             42   \n",
              "4        TRACY PORTER   CB          98          61.0    2.5             72   \n",
              "..                ...  ...         ...           ...    ...            ...   \n",
              "126   DESMOND TRUFANT   CB          57          36.0    3.0             48   \n",
              "127          KOA MISI  OLB          84         100.0   12.0             10   \n",
              "128  PATRICK PETERSON   CB          96          23.0    2.0             63   \n",
              "129       CHRIS CONTE   SS          85          81.0    0.0             32   \n",
              "130     QUINTIN DEMPS   SS         107          89.0    1.5             44   \n",
              "\n",
              "    Ints  \n",
              "0     21  \n",
              "1     13  \n",
              "2     16  \n",
              "3      9  \n",
              "4     13  \n",
              "..   ...  \n",
              "126    7  \n",
              "127    0  \n",
              "128   20  \n",
              "129   13  \n",
              "130   18  \n",
              "\n",
              "[131 rows x 7 columns]"
            ],
            "text/html": [
              "\n",
              "  <div id=\"df-81acd798-7d49-45cf-ba42-edf7db26c88f\">\n",
              "    <div class=\"colab-df-container\">\n",
              "      <div>\n",
              "<style scoped>\n",
              "    .dataframe tbody tr th:only-of-type {\n",
              "        vertical-align: middle;\n",
              "    }\n",
              "\n",
              "    .dataframe tbody tr th {\n",
              "        vertical-align: top;\n",
              "    }\n",
              "\n",
              "    .dataframe thead th {\n",
              "        text-align: right;\n",
              "    }\n",
              "</style>\n",
              "<table border=\"1\" class=\"dataframe\">\n",
              "  <thead>\n",
              "    <tr style=\"text-align: right;\">\n",
              "      <th></th>\n",
              "      <th>Player</th>\n",
              "      <th>Pos</th>\n",
              "      <th>GamesPlayed</th>\n",
              "      <th>TotalTackles</th>\n",
              "      <th>Sacks</th>\n",
              "      <th>PassesDefended</th>\n",
              "      <th>Ints</th>\n",
              "    </tr>\n",
              "  </thead>\n",
              "  <tbody>\n",
              "    <tr>\n",
              "      <th>0</th>\n",
              "      <td>KURT COLEMAN</td>\n",
              "      <td>SS</td>\n",
              "      <td>104</td>\n",
              "      <td>118.0</td>\n",
              "      <td>2.0</td>\n",
              "      <td>33</td>\n",
              "      <td>21</td>\n",
              "    </tr>\n",
              "    <tr>\n",
              "      <th>1</th>\n",
              "      <td>NATE ALLEN</td>\n",
              "      <td>CB</td>\n",
              "      <td>93</td>\n",
              "      <td>79.0</td>\n",
              "      <td>4.0</td>\n",
              "      <td>34</td>\n",
              "      <td>13</td>\n",
              "    </tr>\n",
              "    <tr>\n",
              "      <th>2</th>\n",
              "      <td>TRUMAINE JOHNSON</td>\n",
              "      <td>CB</td>\n",
              "      <td>69</td>\n",
              "      <td>38.0</td>\n",
              "      <td>0.0</td>\n",
              "      <td>53</td>\n",
              "      <td>16</td>\n",
              "    </tr>\n",
              "    <tr>\n",
              "      <th>3</th>\n",
              "      <td>PATRICK CHUNG</td>\n",
              "      <td>SS</td>\n",
              "      <td>109</td>\n",
              "      <td>199.0</td>\n",
              "      <td>4.0</td>\n",
              "      <td>42</td>\n",
              "      <td>9</td>\n",
              "    </tr>\n",
              "    <tr>\n",
              "      <th>4</th>\n",
              "      <td>TRACY PORTER</td>\n",
              "      <td>CB</td>\n",
              "      <td>98</td>\n",
              "      <td>61.0</td>\n",
              "      <td>2.5</td>\n",
              "      <td>72</td>\n",
              "      <td>13</td>\n",
              "    </tr>\n",
              "    <tr>\n",
              "      <th>...</th>\n",
              "      <td>...</td>\n",
              "      <td>...</td>\n",
              "      <td>...</td>\n",
              "      <td>...</td>\n",
              "      <td>...</td>\n",
              "      <td>...</td>\n",
              "      <td>...</td>\n",
              "    </tr>\n",
              "    <tr>\n",
              "      <th>126</th>\n",
              "      <td>DESMOND TRUFANT</td>\n",
              "      <td>CB</td>\n",
              "      <td>57</td>\n",
              "      <td>36.0</td>\n",
              "      <td>3.0</td>\n",
              "      <td>48</td>\n",
              "      <td>7</td>\n",
              "    </tr>\n",
              "    <tr>\n",
              "      <th>127</th>\n",
              "      <td>KOA MISI</td>\n",
              "      <td>OLB</td>\n",
              "      <td>84</td>\n",
              "      <td>100.0</td>\n",
              "      <td>12.0</td>\n",
              "      <td>10</td>\n",
              "      <td>0</td>\n",
              "    </tr>\n",
              "    <tr>\n",
              "      <th>128</th>\n",
              "      <td>PATRICK PETERSON</td>\n",
              "      <td>CB</td>\n",
              "      <td>96</td>\n",
              "      <td>23.0</td>\n",
              "      <td>2.0</td>\n",
              "      <td>63</td>\n",
              "      <td>20</td>\n",
              "    </tr>\n",
              "    <tr>\n",
              "      <th>129</th>\n",
              "      <td>CHRIS CONTE</td>\n",
              "      <td>SS</td>\n",
              "      <td>85</td>\n",
              "      <td>81.0</td>\n",
              "      <td>0.0</td>\n",
              "      <td>32</td>\n",
              "      <td>13</td>\n",
              "    </tr>\n",
              "    <tr>\n",
              "      <th>130</th>\n",
              "      <td>QUINTIN DEMPS</td>\n",
              "      <td>SS</td>\n",
              "      <td>107</td>\n",
              "      <td>89.0</td>\n",
              "      <td>1.5</td>\n",
              "      <td>44</td>\n",
              "      <td>18</td>\n",
              "    </tr>\n",
              "  </tbody>\n",
              "</table>\n",
              "<p>131 rows × 7 columns</p>\n",
              "</div>\n",
              "      <button class=\"colab-df-convert\" onclick=\"convertToInteractive('df-81acd798-7d49-45cf-ba42-edf7db26c88f')\"\n",
              "              title=\"Convert this dataframe to an interactive table.\"\n",
              "              style=\"display:none;\">\n",
              "        \n",
              "  <svg xmlns=\"http://www.w3.org/2000/svg\" height=\"24px\"viewBox=\"0 0 24 24\"\n",
              "       width=\"24px\">\n",
              "    <path d=\"M0 0h24v24H0V0z\" fill=\"none\"/>\n",
              "    <path d=\"M18.56 5.44l.94 2.06.94-2.06 2.06-.94-2.06-.94-.94-2.06-.94 2.06-2.06.94zm-11 1L8.5 8.5l.94-2.06 2.06-.94-2.06-.94L8.5 2.5l-.94 2.06-2.06.94zm10 10l.94 2.06.94-2.06 2.06-.94-2.06-.94-.94-2.06-.94 2.06-2.06.94z\"/><path d=\"M17.41 7.96l-1.37-1.37c-.4-.4-.92-.59-1.43-.59-.52 0-1.04.2-1.43.59L10.3 9.45l-7.72 7.72c-.78.78-.78 2.05 0 2.83L4 21.41c.39.39.9.59 1.41.59.51 0 1.02-.2 1.41-.59l7.78-7.78 2.81-2.81c.8-.78.8-2.07 0-2.86zM5.41 20L4 18.59l7.72-7.72 1.47 1.35L5.41 20z\"/>\n",
              "  </svg>\n",
              "      </button>\n",
              "      \n",
              "  <style>\n",
              "    .colab-df-container {\n",
              "      display:flex;\n",
              "      flex-wrap:wrap;\n",
              "      gap: 12px;\n",
              "    }\n",
              "\n",
              "    .colab-df-convert {\n",
              "      background-color: #E8F0FE;\n",
              "      border: none;\n",
              "      border-radius: 50%;\n",
              "      cursor: pointer;\n",
              "      display: none;\n",
              "      fill: #1967D2;\n",
              "      height: 32px;\n",
              "      padding: 0 0 0 0;\n",
              "      width: 32px;\n",
              "    }\n",
              "\n",
              "    .colab-df-convert:hover {\n",
              "      background-color: #E2EBFA;\n",
              "      box-shadow: 0px 1px 2px rgba(60, 64, 67, 0.3), 0px 1px 3px 1px rgba(60, 64, 67, 0.15);\n",
              "      fill: #174EA6;\n",
              "    }\n",
              "\n",
              "    [theme=dark] .colab-df-convert {\n",
              "      background-color: #3B4455;\n",
              "      fill: #D2E3FC;\n",
              "    }\n",
              "\n",
              "    [theme=dark] .colab-df-convert:hover {\n",
              "      background-color: #434B5C;\n",
              "      box-shadow: 0px 1px 3px 1px rgba(0, 0, 0, 0.15);\n",
              "      filter: drop-shadow(0px 1px 2px rgba(0, 0, 0, 0.3));\n",
              "      fill: #FFFFFF;\n",
              "    }\n",
              "  </style>\n",
              "\n",
              "      <script>\n",
              "        const buttonEl =\n",
              "          document.querySelector('#df-81acd798-7d49-45cf-ba42-edf7db26c88f button.colab-df-convert');\n",
              "        buttonEl.style.display =\n",
              "          google.colab.kernel.accessAllowed ? 'block' : 'none';\n",
              "\n",
              "        async function convertToInteractive(key) {\n",
              "          const element = document.querySelector('#df-81acd798-7d49-45cf-ba42-edf7db26c88f');\n",
              "          const dataTable =\n",
              "            await google.colab.kernel.invokeFunction('convertToInteractive',\n",
              "                                                     [key], {});\n",
              "          if (!dataTable) return;\n",
              "\n",
              "          const docLinkHtml = 'Like what you see? Visit the ' +\n",
              "            '<a target=\"_blank\" href=https://colab.research.google.com/notebooks/data_table.ipynb>data table notebook</a>'\n",
              "            + ' to learn more about interactive tables.';\n",
              "          element.innerHTML = '';\n",
              "          dataTable['output_type'] = 'display_data';\n",
              "          await google.colab.output.renderOutput(dataTable, element);\n",
              "          const docLink = document.createElement('div');\n",
              "          docLink.innerHTML = docLinkHtml;\n",
              "          element.appendChild(docLink);\n",
              "        }\n",
              "      </script>\n",
              "    </div>\n",
              "  </div>\n",
              "  "
            ]
          },
          "metadata": {},
          "execution_count": 6
        }
      ]
    },
    {
      "cell_type": "code",
      "source": [
        "# Creating seperate dataframes for each position\n",
        "db_stats = pd.DataFrame(columns = ['Player', 'Pos', 'GamesPlayed', 'TotalTackles', 'Sacks', 'PassesDefended', 'Ints'])\n",
        "olb_stats = pd.DataFrame(columns = ['Player', 'Pos', 'GamesPlayed', 'TotalTackles', 'Sacks', 'PassesDefended', 'Ints'])\n",
        "\n",
        "for index, row in copy.iterrows():\n",
        "    position = row['Pos']\n",
        "    if position == 'SS' or position == 'FS' or position == 'CB':\n",
        "        db_stats.loc[len(db_stats.index)] = [row['Player'], position, row['GamesPlayed'], row['TotalTackles'], row['Sacks'], row['PassesDefended'], row['Ints']]\n",
        "    else:\n",
        "        olb_stats.loc[len(olb_stats.index)] = [row['Player'], position, row['GamesPlayed'], row['TotalTackles'], row['Sacks'], row['PassesDefended'], row['Ints']]\n",
        "\n",
        "# Dropping unnecessary columns\n",
        "db_stats.drop(db_stats.columns[[1, 4]], axis = 1, inplace = True)\n",
        "olb_stats.drop(olb_stats.columns[[1, 6]], axis = 1, inplace = True)\n"
      ],
      "metadata": {
        "id": "Ingq00-Ovk8y"
      },
      "execution_count": 7,
      "outputs": []
    },
    {
      "cell_type": "markdown",
      "source": [
        "Combining the combine and NFL data is particularly complex. I previously changed the arrangemnt of names within the defensive data so they would match the format of the other datset. Now each name must have a match in the other dataset in order to be added to the final copy of the combined sets. "
      ],
      "metadata": {
        "id": "DlepEoxoiv-g"
      }
    },
    {
      "cell_type": "code",
      "source": [
        "# Combining combine data and NFL stats into one dataframe but seperating into traits and tests\n",
        "# Adding only the most important metrics in for each position\n",
        "\n",
        "db_data = pd.DataFrame(columns = ['Player', 'GamesPlayed', 'TotalTackles', 'PassesDefended', 'Ints', 'Forty', 'Vertical', 'BroadJump', 'Cone'])  \n",
        "olb_data = pd.DataFrame(columns = ['Player', 'GamesPlayed', 'TotalTackles', 'Sacks', 'PassesDefended', 'Forty', 'Vertical', 'BroadJump', 'Cone'])\n",
        "\n",
        "for index, row in db_combine.iterrows():\n",
        "    player = row['Player']\n",
        "    for i, r in db_stats.iterrows():\n",
        "        if player == r['Player']:\n",
        "            db_data.loc[len(db_data.index)] = [player, r['GamesPlayed'], r['TotalTackles'], r['PassesDefended'], r['Ints'], row['Forty'], row['Vertical'], row['BroadJump'], row['Cone']]\n",
        "\n",
        "for index, row in olb_combine.iterrows():\n",
        "    player = row['Player']\n",
        "    for i, r in olb_stats.iterrows():\n",
        "        if player == r['Player']:\n",
        "            olb_data.loc[len(olb_data.index)] = [player, r['GamesPlayed'], r['TotalTackles'], r['Sacks'], r['PassesDefended'], row['Forty'], row['Vertical'], row['BroadJump'], row['Cone']]"
      ],
      "metadata": {
        "id": "ALWqkKTn4V1u"
      },
      "execution_count": 8,
      "outputs": []
    },
    {
      "cell_type": "code",
      "source": [
        "# Converting both dataframes values to intergers or floats that will be used later  \n",
        "for index, row in db_data.iterrows():\n",
        "    forty = row['Forty']\n",
        "    cone = row['Cone']\n",
        "    temp1 = float(forty)  \n",
        "    temp2 = float(cone)\n",
        "\n",
        "    db_data['Forty'] = db_data['Forty'].replace([forty], temp1)\n",
        "    db_data['Cone'] = db_data['Cone'].replace([cone], temp2)\n",
        "    \n",
        "for index, row in olb_data.iterrows():\n",
        "    forty = row['Forty']\n",
        "    cone = row['Cone']\n",
        "    games = row['GamesPlayed']\n",
        "    temp1 = float(forty)  \n",
        "    temp2 = float(cone)\n",
        "    temp3 = float(games)\n",
        "\n",
        "    olb_data['Forty'] = olb_data['Forty'].replace([forty], temp1)\n",
        "    olb_data['Cone'] = olb_data['Cone'].replace([cone], temp2)\n",
        "    olb_data['GamesPlayed'] = olb_data['GamesPlayed'].replace([games], temp3)\n"
      ],
      "metadata": {
        "id": "4Dz5zNll0m56"
      },
      "execution_count": 9,
      "outputs": []
    },
    {
      "cell_type": "code",
      "source": [
        "olb_data.head()"
      ],
      "metadata": {
        "colab": {
          "base_uri": "https://localhost:8080/",
          "height": 206
        },
        "id": "RBQElK2YiocY",
        "outputId": "4970c145-f879-40eb-dc9e-917a66fb90d7"
      },
      "execution_count": 10,
      "outputs": [
        {
          "output_type": "execute_result",
          "data": {
            "text/plain": [
              "          Player  GamesPlayed  TotalTackles  Sacks PassesDefended  Forty  \\\n",
              "0   DEANDRE LEVY         95.0         180.0    3.5             33   4.56   \n",
              "1  CLAY MATTHEWS        113.0          96.0   72.5             38   4.58   \n",
              "2   JERRY HUGHES        104.0          84.0   36.0             10   4.65   \n",
              "3       KOA MISI         84.0         100.0   12.0             10   4.75   \n",
              "4   ARTHUR MOATS        107.0          90.0   16.5              6   4.64   \n",
              "\n",
              "  Vertical BroadJump  Cone  \n",
              "0        0       119  0.00  \n",
              "1     35.5       121  6.90  \n",
              "2     34.5       118  6.99  \n",
              "3       38       127  7.07  \n",
              "4     36.5       122  7.22  "
            ],
            "text/html": [
              "\n",
              "  <div id=\"df-ca055686-76c4-41c6-a564-72328b67c9a1\">\n",
              "    <div class=\"colab-df-container\">\n",
              "      <div>\n",
              "<style scoped>\n",
              "    .dataframe tbody tr th:only-of-type {\n",
              "        vertical-align: middle;\n",
              "    }\n",
              "\n",
              "    .dataframe tbody tr th {\n",
              "        vertical-align: top;\n",
              "    }\n",
              "\n",
              "    .dataframe thead th {\n",
              "        text-align: right;\n",
              "    }\n",
              "</style>\n",
              "<table border=\"1\" class=\"dataframe\">\n",
              "  <thead>\n",
              "    <tr style=\"text-align: right;\">\n",
              "      <th></th>\n",
              "      <th>Player</th>\n",
              "      <th>GamesPlayed</th>\n",
              "      <th>TotalTackles</th>\n",
              "      <th>Sacks</th>\n",
              "      <th>PassesDefended</th>\n",
              "      <th>Forty</th>\n",
              "      <th>Vertical</th>\n",
              "      <th>BroadJump</th>\n",
              "      <th>Cone</th>\n",
              "    </tr>\n",
              "  </thead>\n",
              "  <tbody>\n",
              "    <tr>\n",
              "      <th>0</th>\n",
              "      <td>DEANDRE LEVY</td>\n",
              "      <td>95.0</td>\n",
              "      <td>180.0</td>\n",
              "      <td>3.5</td>\n",
              "      <td>33</td>\n",
              "      <td>4.56</td>\n",
              "      <td>0</td>\n",
              "      <td>119</td>\n",
              "      <td>0.00</td>\n",
              "    </tr>\n",
              "    <tr>\n",
              "      <th>1</th>\n",
              "      <td>CLAY MATTHEWS</td>\n",
              "      <td>113.0</td>\n",
              "      <td>96.0</td>\n",
              "      <td>72.5</td>\n",
              "      <td>38</td>\n",
              "      <td>4.58</td>\n",
              "      <td>35.5</td>\n",
              "      <td>121</td>\n",
              "      <td>6.90</td>\n",
              "    </tr>\n",
              "    <tr>\n",
              "      <th>2</th>\n",
              "      <td>JERRY HUGHES</td>\n",
              "      <td>104.0</td>\n",
              "      <td>84.0</td>\n",
              "      <td>36.0</td>\n",
              "      <td>10</td>\n",
              "      <td>4.65</td>\n",
              "      <td>34.5</td>\n",
              "      <td>118</td>\n",
              "      <td>6.99</td>\n",
              "    </tr>\n",
              "    <tr>\n",
              "      <th>3</th>\n",
              "      <td>KOA MISI</td>\n",
              "      <td>84.0</td>\n",
              "      <td>100.0</td>\n",
              "      <td>12.0</td>\n",
              "      <td>10</td>\n",
              "      <td>4.75</td>\n",
              "      <td>38</td>\n",
              "      <td>127</td>\n",
              "      <td>7.07</td>\n",
              "    </tr>\n",
              "    <tr>\n",
              "      <th>4</th>\n",
              "      <td>ARTHUR MOATS</td>\n",
              "      <td>107.0</td>\n",
              "      <td>90.0</td>\n",
              "      <td>16.5</td>\n",
              "      <td>6</td>\n",
              "      <td>4.64</td>\n",
              "      <td>36.5</td>\n",
              "      <td>122</td>\n",
              "      <td>7.22</td>\n",
              "    </tr>\n",
              "  </tbody>\n",
              "</table>\n",
              "</div>\n",
              "      <button class=\"colab-df-convert\" onclick=\"convertToInteractive('df-ca055686-76c4-41c6-a564-72328b67c9a1')\"\n",
              "              title=\"Convert this dataframe to an interactive table.\"\n",
              "              style=\"display:none;\">\n",
              "        \n",
              "  <svg xmlns=\"http://www.w3.org/2000/svg\" height=\"24px\"viewBox=\"0 0 24 24\"\n",
              "       width=\"24px\">\n",
              "    <path d=\"M0 0h24v24H0V0z\" fill=\"none\"/>\n",
              "    <path d=\"M18.56 5.44l.94 2.06.94-2.06 2.06-.94-2.06-.94-.94-2.06-.94 2.06-2.06.94zm-11 1L8.5 8.5l.94-2.06 2.06-.94-2.06-.94L8.5 2.5l-.94 2.06-2.06.94zm10 10l.94 2.06.94-2.06 2.06-.94-2.06-.94-.94-2.06-.94 2.06-2.06.94z\"/><path d=\"M17.41 7.96l-1.37-1.37c-.4-.4-.92-.59-1.43-.59-.52 0-1.04.2-1.43.59L10.3 9.45l-7.72 7.72c-.78.78-.78 2.05 0 2.83L4 21.41c.39.39.9.59 1.41.59.51 0 1.02-.2 1.41-.59l7.78-7.78 2.81-2.81c.8-.78.8-2.07 0-2.86zM5.41 20L4 18.59l7.72-7.72 1.47 1.35L5.41 20z\"/>\n",
              "  </svg>\n",
              "      </button>\n",
              "      \n",
              "  <style>\n",
              "    .colab-df-container {\n",
              "      display:flex;\n",
              "      flex-wrap:wrap;\n",
              "      gap: 12px;\n",
              "    }\n",
              "\n",
              "    .colab-df-convert {\n",
              "      background-color: #E8F0FE;\n",
              "      border: none;\n",
              "      border-radius: 50%;\n",
              "      cursor: pointer;\n",
              "      display: none;\n",
              "      fill: #1967D2;\n",
              "      height: 32px;\n",
              "      padding: 0 0 0 0;\n",
              "      width: 32px;\n",
              "    }\n",
              "\n",
              "    .colab-df-convert:hover {\n",
              "      background-color: #E2EBFA;\n",
              "      box-shadow: 0px 1px 2px rgba(60, 64, 67, 0.3), 0px 1px 3px 1px rgba(60, 64, 67, 0.15);\n",
              "      fill: #174EA6;\n",
              "    }\n",
              "\n",
              "    [theme=dark] .colab-df-convert {\n",
              "      background-color: #3B4455;\n",
              "      fill: #D2E3FC;\n",
              "    }\n",
              "\n",
              "    [theme=dark] .colab-df-convert:hover {\n",
              "      background-color: #434B5C;\n",
              "      box-shadow: 0px 1px 3px 1px rgba(0, 0, 0, 0.15);\n",
              "      filter: drop-shadow(0px 1px 2px rgba(0, 0, 0, 0.3));\n",
              "      fill: #FFFFFF;\n",
              "    }\n",
              "  </style>\n",
              "\n",
              "      <script>\n",
              "        const buttonEl =\n",
              "          document.querySelector('#df-ca055686-76c4-41c6-a564-72328b67c9a1 button.colab-df-convert');\n",
              "        buttonEl.style.display =\n",
              "          google.colab.kernel.accessAllowed ? 'block' : 'none';\n",
              "\n",
              "        async function convertToInteractive(key) {\n",
              "          const element = document.querySelector('#df-ca055686-76c4-41c6-a564-72328b67c9a1');\n",
              "          const dataTable =\n",
              "            await google.colab.kernel.invokeFunction('convertToInteractive',\n",
              "                                                     [key], {});\n",
              "          if (!dataTable) return;\n",
              "\n",
              "          const docLinkHtml = 'Like what you see? Visit the ' +\n",
              "            '<a target=\"_blank\" href=https://colab.research.google.com/notebooks/data_table.ipynb>data table notebook</a>'\n",
              "            + ' to learn more about interactive tables.';\n",
              "          element.innerHTML = '';\n",
              "          dataTable['output_type'] = 'display_data';\n",
              "          await google.colab.output.renderOutput(dataTable, element);\n",
              "          const docLink = document.createElement('div');\n",
              "          docLink.innerHTML = docLinkHtml;\n",
              "          element.appendChild(docLink);\n",
              "        }\n",
              "      </script>\n",
              "    </div>\n",
              "  </div>\n",
              "  "
            ]
          },
          "metadata": {},
          "execution_count": 10
        }
      ]
    },
    {
      "cell_type": "code",
      "source": [
        "db_data.head()"
      ],
      "metadata": {
        "colab": {
          "base_uri": "https://localhost:8080/",
          "height": 206
        },
        "id": "KWqx0ZwAiqcc",
        "outputId": "176ca8b8-874f-4fdb-91c4-092758a464a6"
      },
      "execution_count": 11,
      "outputs": [
        {
          "output_type": "execute_result",
          "data": {
            "text/plain": [
              "            Player GamesPlayed  TotalTackles PassesDefended Ints  Forty  \\\n",
              "0     TYVON BRANCH          97         119.0             29    5   4.31   \n",
              "1    QUINTIN DEMPS         107          89.0             44   18   4.39   \n",
              "2  BRANDON FLOWERS         119          60.0            110   21   4.55   \n",
              "3     MIKE JENKINS         101          23.0             54   10   4.38   \n",
              "4    DWIGHT LOWERY         116          80.0             68   17   4.54   \n",
              "\n",
              "  Vertical BroadJump  Cone  \n",
              "0       34       120  0.00  \n",
              "1     31.5       110  0.00  \n",
              "2       30       117  0.00  \n",
              "3       34       117  7.21  \n",
              "4     33.5       116  7.31  "
            ],
            "text/html": [
              "\n",
              "  <div id=\"df-7514aa5e-a2b6-49a7-a25a-dd8a292d136c\">\n",
              "    <div class=\"colab-df-container\">\n",
              "      <div>\n",
              "<style scoped>\n",
              "    .dataframe tbody tr th:only-of-type {\n",
              "        vertical-align: middle;\n",
              "    }\n",
              "\n",
              "    .dataframe tbody tr th {\n",
              "        vertical-align: top;\n",
              "    }\n",
              "\n",
              "    .dataframe thead th {\n",
              "        text-align: right;\n",
              "    }\n",
              "</style>\n",
              "<table border=\"1\" class=\"dataframe\">\n",
              "  <thead>\n",
              "    <tr style=\"text-align: right;\">\n",
              "      <th></th>\n",
              "      <th>Player</th>\n",
              "      <th>GamesPlayed</th>\n",
              "      <th>TotalTackles</th>\n",
              "      <th>PassesDefended</th>\n",
              "      <th>Ints</th>\n",
              "      <th>Forty</th>\n",
              "      <th>Vertical</th>\n",
              "      <th>BroadJump</th>\n",
              "      <th>Cone</th>\n",
              "    </tr>\n",
              "  </thead>\n",
              "  <tbody>\n",
              "    <tr>\n",
              "      <th>0</th>\n",
              "      <td>TYVON BRANCH</td>\n",
              "      <td>97</td>\n",
              "      <td>119.0</td>\n",
              "      <td>29</td>\n",
              "      <td>5</td>\n",
              "      <td>4.31</td>\n",
              "      <td>34</td>\n",
              "      <td>120</td>\n",
              "      <td>0.00</td>\n",
              "    </tr>\n",
              "    <tr>\n",
              "      <th>1</th>\n",
              "      <td>QUINTIN DEMPS</td>\n",
              "      <td>107</td>\n",
              "      <td>89.0</td>\n",
              "      <td>44</td>\n",
              "      <td>18</td>\n",
              "      <td>4.39</td>\n",
              "      <td>31.5</td>\n",
              "      <td>110</td>\n",
              "      <td>0.00</td>\n",
              "    </tr>\n",
              "    <tr>\n",
              "      <th>2</th>\n",
              "      <td>BRANDON FLOWERS</td>\n",
              "      <td>119</td>\n",
              "      <td>60.0</td>\n",
              "      <td>110</td>\n",
              "      <td>21</td>\n",
              "      <td>4.55</td>\n",
              "      <td>30</td>\n",
              "      <td>117</td>\n",
              "      <td>0.00</td>\n",
              "    </tr>\n",
              "    <tr>\n",
              "      <th>3</th>\n",
              "      <td>MIKE JENKINS</td>\n",
              "      <td>101</td>\n",
              "      <td>23.0</td>\n",
              "      <td>54</td>\n",
              "      <td>10</td>\n",
              "      <td>4.38</td>\n",
              "      <td>34</td>\n",
              "      <td>117</td>\n",
              "      <td>7.21</td>\n",
              "    </tr>\n",
              "    <tr>\n",
              "      <th>4</th>\n",
              "      <td>DWIGHT LOWERY</td>\n",
              "      <td>116</td>\n",
              "      <td>80.0</td>\n",
              "      <td>68</td>\n",
              "      <td>17</td>\n",
              "      <td>4.54</td>\n",
              "      <td>33.5</td>\n",
              "      <td>116</td>\n",
              "      <td>7.31</td>\n",
              "    </tr>\n",
              "  </tbody>\n",
              "</table>\n",
              "</div>\n",
              "      <button class=\"colab-df-convert\" onclick=\"convertToInteractive('df-7514aa5e-a2b6-49a7-a25a-dd8a292d136c')\"\n",
              "              title=\"Convert this dataframe to an interactive table.\"\n",
              "              style=\"display:none;\">\n",
              "        \n",
              "  <svg xmlns=\"http://www.w3.org/2000/svg\" height=\"24px\"viewBox=\"0 0 24 24\"\n",
              "       width=\"24px\">\n",
              "    <path d=\"M0 0h24v24H0V0z\" fill=\"none\"/>\n",
              "    <path d=\"M18.56 5.44l.94 2.06.94-2.06 2.06-.94-2.06-.94-.94-2.06-.94 2.06-2.06.94zm-11 1L8.5 8.5l.94-2.06 2.06-.94-2.06-.94L8.5 2.5l-.94 2.06-2.06.94zm10 10l.94 2.06.94-2.06 2.06-.94-2.06-.94-.94-2.06-.94 2.06-2.06.94z\"/><path d=\"M17.41 7.96l-1.37-1.37c-.4-.4-.92-.59-1.43-.59-.52 0-1.04.2-1.43.59L10.3 9.45l-7.72 7.72c-.78.78-.78 2.05 0 2.83L4 21.41c.39.39.9.59 1.41.59.51 0 1.02-.2 1.41-.59l7.78-7.78 2.81-2.81c.8-.78.8-2.07 0-2.86zM5.41 20L4 18.59l7.72-7.72 1.47 1.35L5.41 20z\"/>\n",
              "  </svg>\n",
              "      </button>\n",
              "      \n",
              "  <style>\n",
              "    .colab-df-container {\n",
              "      display:flex;\n",
              "      flex-wrap:wrap;\n",
              "      gap: 12px;\n",
              "    }\n",
              "\n",
              "    .colab-df-convert {\n",
              "      background-color: #E8F0FE;\n",
              "      border: none;\n",
              "      border-radius: 50%;\n",
              "      cursor: pointer;\n",
              "      display: none;\n",
              "      fill: #1967D2;\n",
              "      height: 32px;\n",
              "      padding: 0 0 0 0;\n",
              "      width: 32px;\n",
              "    }\n",
              "\n",
              "    .colab-df-convert:hover {\n",
              "      background-color: #E2EBFA;\n",
              "      box-shadow: 0px 1px 2px rgba(60, 64, 67, 0.3), 0px 1px 3px 1px rgba(60, 64, 67, 0.15);\n",
              "      fill: #174EA6;\n",
              "    }\n",
              "\n",
              "    [theme=dark] .colab-df-convert {\n",
              "      background-color: #3B4455;\n",
              "      fill: #D2E3FC;\n",
              "    }\n",
              "\n",
              "    [theme=dark] .colab-df-convert:hover {\n",
              "      background-color: #434B5C;\n",
              "      box-shadow: 0px 1px 3px 1px rgba(0, 0, 0, 0.15);\n",
              "      filter: drop-shadow(0px 1px 2px rgba(0, 0, 0, 0.3));\n",
              "      fill: #FFFFFF;\n",
              "    }\n",
              "  </style>\n",
              "\n",
              "      <script>\n",
              "        const buttonEl =\n",
              "          document.querySelector('#df-7514aa5e-a2b6-49a7-a25a-dd8a292d136c button.colab-df-convert');\n",
              "        buttonEl.style.display =\n",
              "          google.colab.kernel.accessAllowed ? 'block' : 'none';\n",
              "\n",
              "        async function convertToInteractive(key) {\n",
              "          const element = document.querySelector('#df-7514aa5e-a2b6-49a7-a25a-dd8a292d136c');\n",
              "          const dataTable =\n",
              "            await google.colab.kernel.invokeFunction('convertToInteractive',\n",
              "                                                     [key], {});\n",
              "          if (!dataTable) return;\n",
              "\n",
              "          const docLinkHtml = 'Like what you see? Visit the ' +\n",
              "            '<a target=\"_blank\" href=https://colab.research.google.com/notebooks/data_table.ipynb>data table notebook</a>'\n",
              "            + ' to learn more about interactive tables.';\n",
              "          element.innerHTML = '';\n",
              "          dataTable['output_type'] = 'display_data';\n",
              "          await google.colab.output.renderOutput(dataTable, element);\n",
              "          const docLink = document.createElement('div');\n",
              "          docLink.innerHTML = docLinkHtml;\n",
              "          element.appendChild(docLink);\n",
              "        }\n",
              "      </script>\n",
              "    </div>\n",
              "  </div>\n",
              "  "
            ]
          },
          "metadata": {},
          "execution_count": 11
        }
      ]
    },
    {
      "cell_type": "markdown",
      "source": [
        "Choosing which NFL statistics to focus on was easy. As fun as it would be to look at a player's ability to stay healthy through games played, I will be analyzing the correlation between combine performance and interceptions for defensive backs, sacks for outside linebackers, and total tackles for both positional groups. A much more difficult and confusing choice was deciding which combine events should be the focal points of my analysis. After some research, CBS Sports and ESPN both believe that the 40-yard dash and cone drill are the most important events so my decision is obvious.\n",
        "\n",
        "# Analyzing the 40-Yard Dash\n",
        "Possibly the most well known and exciting combine event to watch is the 40-yard dash. In a sport where speed and acceleration are king, it makes sense that this event would be held in such high regard by franchises. Players can disappoint and fall in draft rankings or sprint their way higher onto a team's big board. The first graphs will show the relationship between 40-yard dash time and various statistics for outside linebackers. Then the following graphs will display the same relationship except for defensive backs. This pattern will repeat for the remainder of my analysis.\n",
        "# Outside Linebackers:"
      ],
      "metadata": {
        "id": "jTh-tfrvs0U-"
      }
    },
    {
      "cell_type": "code",
      "source": [
        "import matplotlib.pyplot as plt\n",
        "from matplotlib.ticker import FormatStrFormatter\n",
        "import numpy as np\n",
        "%matplotlib inline\n",
        "\n",
        "# Plotting data for OLB \n",
        "plt.scatter(olb_data['Forty'], olb_data['Sacks'])\n",
        "plt.xlabel('Forty Time')\n",
        "plt.ylabel('Sacks')\n",
        "plt.title('OLB Sacks through 2017 vs. Forty Time')\n",
        "plt.show()"
      ],
      "metadata": {
        "colab": {
          "base_uri": "https://localhost:8080/",
          "height": 295
        },
        "id": "FI4PtKMpzRBG",
        "outputId": "64ce7d07-e085-4e61-c6ce-6de5f923353b"
      },
      "execution_count": 12,
      "outputs": [
        {
          "output_type": "display_data",
          "data": {
            "text/plain": [
              "<Figure size 432x288 with 1 Axes>"
            ],
            "image/png": "[encoded data removed]"
          },
          "metadata": {
            "needs_background": "light"
          }
        }
      ]
    },
    {
      "cell_type": "code",
      "source": [
        "plt.scatter(olb_data['Forty'], olb_data['TotalTackles'])\n",
        "plt.xlabel('Forty Time')\n",
        "plt.ylabel('Tackles')\n",
        "plt.title('OLB Tackles through 2017 vs. Forty Time')\n",
        "plt.show()"
      ],
      "metadata": {
        "colab": {
          "base_uri": "https://localhost:8080/",
          "height": 295
        },
        "id": "rllEXNVV0pB4",
        "outputId": "c5c34505-047a-4306-ac7e-8956b67c4e3e"
      },
      "execution_count": 13,
      "outputs": [
        {
          "output_type": "display_data",
          "data": {
            "text/plain": [
              "<Figure size 432x288 with 1 Axes>"
            ],
            "image/png": "[encoded data removed]"
          },
          "metadata": {
            "needs_background": "light"
          }
        }
      ]
    },
    {
      "cell_type": "markdown",
      "source": [
        "For outside linebackers, there appears to be a negative linear relationship between total tackles and 40-yard dash time. There also seems to be the same relationship for sacks. More testing will be necessary in order to come to a stronger conclusion on the strength of these correlations.\n",
        "# Defensive Backs:"
      ],
      "metadata": {
        "id": "qyiuOhf8X3XP"
      }
    },
    {
      "cell_type": "code",
      "source": [
        "plt.scatter(db_data['Forty'], db_data['Ints'])\n",
        "plt.xlabel('Forty Time')\n",
        "plt.ylabel('Interceptions')\n",
        "plt.title('DB Interceptions through 2017 vs. Forty Time')\n",
        "plt.show()"
      ],
      "metadata": {
        "colab": {
          "base_uri": "https://localhost:8080/",
          "height": 295
        },
        "id": "-s3px8RyYtCd",
        "outputId": "5a57ae7e-499c-4df2-fa39-cf0f9967cc01"
      },
      "execution_count": 14,
      "outputs": [
        {
          "output_type": "display_data",
          "data": {
            "text/plain": [
              "<Figure size 432x288 with 1 Axes>"
            ],
            "image/png": "[encoded data removed]"
          },
          "metadata": {
            "needs_background": "light"
          }
        }
      ]
    },
    {
      "cell_type": "code",
      "source": [
        "plt.scatter(db_data['Forty'], db_data['TotalTackles'])\n",
        "plt.xlabel('Forty Time')\n",
        "plt.ylabel('Tackles')\n",
        "plt.title('DB Tackles through 2017 vs. Forty Time')\n",
        "plt.show()"
      ],
      "metadata": {
        "colab": {
          "base_uri": "https://localhost:8080/",
          "height": 295
        },
        "id": "LWPAmFenYjbJ",
        "outputId": "74a3f0ec-c24e-41a8-f08d-a0ccff72fa6e"
      },
      "execution_count": 15,
      "outputs": [
        {
          "output_type": "display_data",
          "data": {
            "text/plain": [
              "<Figure size 432x288 with 1 Axes>"
            ],
            "image/png": "[encoded data removed]"
          },
          "metadata": {
            "needs_background": "light"
          }
        }
      ]
    },
    {
      "cell_type": "markdown",
      "source": [
        "For both graphs, there does not appear to be a strong correlation between 40 time and any of these variables for defensive backs. However, the majority of tackles and interceptions appear to be attributed to those who recorded faster 40 times. To better represent this relationship, a bar graph will be used. The interceptions and tackles for the fastest third will be summed, then the same for the middle third and slowest third. "
      ],
      "metadata": {
        "id": "LcviT6J1Bvnu"
      }
    },
    {
      "cell_type": "code",
      "source": [
        "# Finding the third and two-thirds prospect's times in order to divide them up\n",
        "db_third_mark = db_data.at[37, 'Forty']\n",
        "db_two_thirds_mark = db_data.at[73, 'Forty']\n",
        "\n",
        "# Summing interceptions from each third of prospects\n",
        "ints1 = 0\n",
        "ints2 = 0\n",
        "ints3 = 0\n",
        "\n",
        "for index, row in db_data.iterrows():\n",
        "    if row['Forty'] <= db_third_mark:\n",
        "        ints1 += row['Ints']\n",
        "    elif row['Forty'] >= db_two_thirds_mark:\n",
        "        ints3 += row['Ints']\n",
        "    else: \n",
        "        ints2 += row['Ints']\n",
        "\n",
        "intervals = [\"4.29 - \" + str(db_third_mark), str(db_third_mark) + \" - \" + str(db_two_thirds_mark), str(db_two_thirds_mark) + \" - 4.74\"]\n",
        "summed_ints = [ints1, ints2, ints3]\n",
        "total = ints1+ints2+ints3\n",
        "\n",
        "plt.bar(intervals, summed_ints)\n",
        "plt.title('Total Interceptions through 2017 vs. Defensive Backs Partitioned by 40 Time')\n",
        "plt.xlabel('Time Interval')\n",
        "plt.ylabel('Total Interceptions')\n",
        "plt.show()"
      ],
      "metadata": {
        "colab": {
          "base_uri": "https://localhost:8080/",
          "height": 295
        },
        "id": "wJiYvyTqBxO3",
        "outputId": "d0c26d1c-4322-4dea-c959-c1bd6cd29bad"
      },
      "execution_count": 16,
      "outputs": [
        {
          "output_type": "display_data",
          "data": {
            "text/plain": [
              "<Figure size 432x288 with 1 Axes>"
            ],
            "image/png": "[encoded data removed]"
          },
          "metadata": {
            "needs_background": "light"
          }
        }
      ]
    },
    {
      "cell_type": "markdown",
      "source": [
        "This graph clearly shows the value of a quick 40-yard dash time. 48% of total interceptions were recorded by the fastest third of the defensive backs and 92% of total interceptions were recorded by the fastest two-thirds of players, leaving the slowest third with only 8% to show for."
      ],
      "metadata": {
        "id": "cwdwWL2dGVxd"
      }
    },
    {
      "cell_type": "code",
      "source": [
        "# Finding the third and two-thirds prospect's times in order to divide them up\n",
        "db_data = db_data.sort_values(by = ['TotalTackles'], ascending = True)\n",
        "\n",
        "db_third_mark = db_data.at[37, 'Forty']\n",
        "db_two_thirds_mark = db_data.at[73, 'Forty']\n",
        "\n",
        "# Summing interceptions from each third of prospects\n",
        "tackles1 = 0\n",
        "tackles2 = 0\n",
        "tackles3 = 0\n",
        "\n",
        "for index, row in db_data.iterrows():\n",
        "    if row['Forty'] <= db_third_mark:\n",
        "        tackles1 += row['TotalTackles']\n",
        "    elif row['Forty'] >= db_two_thirds_mark:\n",
        "        tackles2 += row['TotalTackles']\n",
        "    else: \n",
        "        tackles3 += row['TotalTackles']\n",
        "\n",
        "intervals = [\"4.29 - \" + str(db_third_mark), str(db_third_mark) + \" - \" + str(db_two_thirds_mark), str(db_two_thirds_mark) + \" - 4.74\"]\n",
        "summed_ints = [tackles1, tackles2, tackles3]\n",
        "\n",
        "plt.bar(intervals, summed_ints)\n",
        "plt.title('Total Tackles through 2017 vs. Defensive Backs Partitioned by 40 Forty Time')\n",
        "plt.xlabel('Time Interval')\n",
        "plt.ylabel('Total Tackles')\n",
        "plt.show()"
      ],
      "metadata": {
        "colab": {
          "base_uri": "https://localhost:8080/",
          "height": 295
        },
        "id": "jY7UI0kdB5bD",
        "outputId": "8a24de13-4c8d-4229-838d-742bb0960154"
      },
      "execution_count": 17,
      "outputs": [
        {
          "output_type": "display_data",
          "data": {
            "text/plain": [
              "<Figure size 432x288 with 1 Axes>"
            ],
            "image/png": "[encoded data removed]"
          },
          "metadata": {
            "needs_background": "light"
          }
        }
      ]
    },
    {
      "cell_type": "markdown",
      "source": [
        "Contrary to interceptions, the slowest third of players made the most tackles amongst defensive backs with 49% of the total. Strangely, the second largest total is the fastest third of players. When combined with the slowest third they account for 87% of the total. "
      ],
      "metadata": {
        "id": "Zm0gCInyFDKc"
      }
    },
    {
      "cell_type": "markdown",
      "source": [
        "# Analyzing the Cone Drill\n",
        "The cone drill involves prospects running between an assortment of cones while having to change direction and touch each one before they can move to the next. The ability to change direction is highly valued in the NFL and being able to maintain a high speed is even more rare. These factors combine to make the cone drill one of NFL organizations most considered events as they decide who to draft.\n",
        "# Outside Linebackers:"
      ],
      "metadata": {
        "id": "VnEWyQ61ZSok"
      }
    },
    {
      "cell_type": "code",
      "source": [
        "# Creating a dataframe exclusive to players who partipated in the cone drill\n",
        "temp = pd.DataFrame(columns = ['Cone', 'Sacks', 'TotalTackles', 'GamesPlayed'])\n",
        "\n",
        "for index, row in olb_data.iterrows():\n",
        "    cone = row['Cone']\n",
        "    sacks = row['Sacks']\n",
        "    tackles = row['TotalTackles']\n",
        "    gp = row['GamesPlayed']\n",
        "\n",
        "    # Checking that cone time wasn't set to 0 \n",
        "    if cone != 0:\n",
        "        temp.loc[len(temp.index)] = [cone, sacks, tackles, gp]\n",
        "\n",
        "plt.scatter(temp['Cone'], temp['Sacks'])\n",
        "plt.xlabel('Cone Time')\n",
        "plt.ylabel('Sacks')\n",
        "plt.title('OLB Sacks through 2017 vs. Cone Time')\n",
        "plt.show()"
      ],
      "metadata": {
        "colab": {
          "base_uri": "https://localhost:8080/",
          "height": 295
        },
        "id": "GC_OwZ3RfS8a",
        "outputId": "0209db3a-6a72-4305-f60b-9cfe1c1e129a"
      },
      "execution_count": 18,
      "outputs": [
        {
          "output_type": "display_data",
          "data": {
            "text/plain": [
              "<Figure size 432x288 with 1 Axes>"
            ],
            "image/png": "[encoded data removed]"
          },
          "metadata": {
            "needs_background": "light"
          }
        }
      ]
    },
    {
      "cell_type": "code",
      "source": [
        "plt.scatter(temp['Cone'], temp['TotalTackles'])\n",
        "plt.xlabel('Cone Time')\n",
        "plt.ylabel('Tackles')\n",
        "plt.title('OLB Tackles through 2017 vs. Cone Time')\n",
        "plt.show()"
      ],
      "metadata": {
        "colab": {
          "base_uri": "https://localhost:8080/",
          "height": 295
        },
        "id": "aSY0RbH7gSn9",
        "outputId": "ff057e86-dd69-40f8-e127-2c96710d3cd3"
      },
      "execution_count": 19,
      "outputs": [
        {
          "output_type": "display_data",
          "data": {
            "text/plain": [
              "<Figure size 432x288 with 1 Axes>"
            ],
            "image/png": "[encoded data removed]"
          },
          "metadata": {
            "needs_background": "light"
          }
        }
      ]
    },
    {
      "cell_type": "markdown",
      "source": [
        "There appears to be a slight negative correlation between sacks and cone time. This is logical as being fast and agile is key to get to the quarterback before he throws the ball. However, cone time and tackles appear to have a positive linear relationship which is interesting and requires further testing."
      ],
      "metadata": {
        "id": "B8eYAG3Q6hS0"
      }
    },
    {
      "cell_type": "markdown",
      "source": [
        "# Defensive Backs:"
      ],
      "metadata": {
        "id": "satZyP2NgB3s"
      }
    },
    {
      "cell_type": "code",
      "source": [
        "# Creating a dataframe exclusive to players who partipated in the cone drill\n",
        "temp = pd.DataFrame(columns = ['Cone', 'Ints', 'TotalTackles', 'GamesPlayed'])\n",
        "\n",
        "for index, row in db_data.iterrows():\n",
        "    cone = row['Cone']\n",
        "    ints = row['Ints']\n",
        "    tackles = row['TotalTackles']\n",
        "    gp = row['GamesPlayed']\n",
        "\n",
        "    # Checking that cone time wasn't set to 0 \n",
        "    if cone != 0:\n",
        "        temp.loc[len(temp.index)] = [cone, ints, tackles, gp]\n",
        "\n",
        "plt.scatter(temp['Cone'], temp['Ints'])\n",
        "plt.xlabel('Cone Time')\n",
        "plt.ylabel('Interceptions')\n",
        "plt.title('DB Interceptions through 2017 vs. Cone Time')\n",
        "plt.show()"
      ],
      "metadata": {
        "colab": {
          "base_uri": "https://localhost:8080/",
          "height": 295
        },
        "id": "XZKKgb8Gddkp",
        "outputId": "0d285d8d-07cd-4efb-b98f-8196278e5706"
      },
      "execution_count": 20,
      "outputs": [
        {
          "output_type": "display_data",
          "data": {
            "text/plain": [
              "<Figure size 432x288 with 1 Axes>"
            ],
            "image/png": "[encoded data removed]"
          },
          "metadata": {
            "needs_background": "light"
          }
        }
      ]
    },
    {
      "cell_type": "code",
      "source": [
        "plt.scatter(temp['Cone'], temp['TotalTackles'])\n",
        "plt.xlabel('Cone Time')\n",
        "plt.ylabel('Tackles')\n",
        "plt.title('DB Tackles through 2017 vs. Cone Time')\n",
        "plt.show()"
      ],
      "metadata": {
        "colab": {
          "base_uri": "https://localhost:8080/",
          "height": 295
        },
        "id": "WdDtqrUcdX7f",
        "outputId": "75128464-434e-4896-edd3-6d82c087b911"
      },
      "execution_count": 21,
      "outputs": [
        {
          "output_type": "display_data",
          "data": {
            "text/plain": [
              "<Figure size 432x288 with 1 Axes>"
            ],
            "image/png": "[encoded data removed]"
          },
          "metadata": {
            "needs_background": "light"
          }
        }
      ]
    },
    {
      "cell_type": "markdown",
      "source": [
        "For defensive backs there seems to be a slight positive linear relationship between cone time and tackles, similar to outside linebackers. The other graph appears to be fairly uniform but the majority of interceptions appear to be made by players with quicker cone times. In order to better show this data, a bar graph will be used. The cone times will be divided into 3 sections containing the faster third of players, middle third, and slowest third. The bar will represent their summed interceptions."
      ],
      "metadata": {
        "id": "09vTey-_7wkl"
      }
    },
    {
      "cell_type": "code",
      "source": [
        "# Creating a dataframe for prospects with a cone time\n",
        "copy = pd.DataFrame(columns = ['Cone', 'Ints'])\n",
        "for index, row in db_data.iterrows():\n",
        "    if row['Cone'] != 0:\n",
        "            copy.loc[len(copy.index)] = [row['Cone'], row['Ints']]\n",
        "\n",
        "# Finding the third and two-thirds prospect's times in order to divide them up\n",
        "db_data = db_data.sort_values(by = ['Cone'], ascending = True)\n",
        "\n",
        "db_third_mark = copy.at[26, 'Cone']\n",
        "db_two_thirds_mark = copy.at[51, 'Cone']\n",
        "\n",
        "# Summing interceptions from each third of prospects\n",
        "ints1 = 0\n",
        "ints2 = 0\n",
        "ints3 = 0\n",
        "\n",
        "for index, row in copy.iterrows():\n",
        "    if row['Cone'] <= db_third_mark:\n",
        "        ints1 += row['Ints']\n",
        "    elif row['Cone'] >= db_two_thirds_mark:\n",
        "        ints3 += row['Ints']\n",
        "    else: \n",
        "        ints2 += row['Ints']\n",
        "\n",
        "intervals = [\"6.44 - \" + str(db_third_mark), str(db_third_mark) + \" - \" + str(db_two_thirds_mark), str(db_two_thirds_mark) + \" - 7.93\"]\n",
        "summed_ints = [ints1, ints2, ints3]\n",
        "\n",
        "plt.bar(intervals, summed_ints)\n",
        "plt.title('Total Interceptions through 2017 vs. Defensive Backs Partitioned by Cone Time')\n",
        "plt.xlabel('Time Interval')\n",
        "plt.ylabel('Total Interceptions')\n",
        "plt.show()"
      ],
      "metadata": {
        "colab": {
          "base_uri": "https://localhost:8080/",
          "height": 295
        },
        "id": "fXxE-Uhc8d64",
        "outputId": "de58ebf4-8dd2-485f-a812-55d1bdc199b5"
      },
      "execution_count": 22,
      "outputs": [
        {
          "output_type": "display_data",
          "data": {
            "text/plain": [
              "<Figure size 432x288 with 1 Axes>"
            ],
            "image/png": "[encoded data removed]"
          },
          "metadata": {
            "needs_background": "light"
          }
        }
      ]
    },
    {
      "cell_type": "markdown",
      "source": [
        "After viewing the bar graph, it appears the interceptions are fairly distributed among each time interval. This is slightly strange given one would expect faster and more agile players to record more interceptions. \n",
        "\n"
      ],
      "metadata": {
        "id": "5gzXMZXzEhsk"
      }
    },
    {
      "cell_type": "markdown",
      "source": [
        "# Predictions and Further Testing\n",
        "Predicting a player's performance is nearly impossible as there are an uncountable amount of external factors that have nothing to do with a player's athleticism or skill. Team chemistry, coaching, and injuries can have dire impacts on a player's performance. On the other hand, sometimes players fit well into a particular team's system and thrive, despite their faults. Nevertheless, based on the data collected I am going to use linear regression to attempt to make a model to predict tackles and sacks based on 40-yard dash and cone time for outside linebackers. These correlations were chosen because their plots displayed some type of moderate linear correlation. For each graph, the correlation coefficient will be calculated to determine if the relationship is significant. As the name implies, the correlation coefficient is a value between 0 and 1 representing the strength of the relationship between two variables. A value of 0.9 or above is necessary to conclude a strong correlation. \n",
        "# Tackles vs. 40-Yard Dash"
      ],
      "metadata": {
        "id": "DNoE3B24giFa"
      }
    },
    {
      "cell_type": "code",
      "source": [
        "from sklearn.linear_model import LinearRegression\n",
        "\n",
        "# Function that returns a linear regression model based on 2 variable parameters\n",
        "def calculate_lin_reg(df, x, y):\n",
        "    model = LinearRegression()\n",
        "    X = [[x] for x in df[x].values]\n",
        "    y = [[y] for y in df[y].values]\n",
        "    model.fit(X, y)\n",
        "    return model\n",
        "\n",
        "model = calculate_lin_reg(olb_data, 'Forty', 'TotalTackles')\n",
        "\n",
        "unique_times = [[x] for x in olb_data['Forty'].unique()]\n",
        "\n",
        "ax = olb_data.plot('Forty', 'TotalTackles', kind = 'scatter', c = 'r')\n",
        "ax.plot(unique_times, [y for [y] in model.predict(unique_times)])\n",
        "plt.title('Total Tackles vs. Forty Time')\n",
        "plt.show()"
      ],
      "metadata": {
        "colab": {
          "base_uri": "https://localhost:8080/",
          "height": 295
        },
        "id": "hgO89KXvs1aA",
        "outputId": "0df60a28-e34c-4ed5-b770-3a16b6cdada5"
      },
      "execution_count": 23,
      "outputs": [
        {
          "output_type": "display_data",
          "data": {
            "text/plain": [
              "<Figure size 432x288 with 1 Axes>"
            ],
            "image/png": "[encoded data removed]"
          },
          "metadata": {
            "needs_background": "light"
          }
        }
      ]
    },
    {
      "cell_type": "markdown",
      "source": [
        "The line does not fit the data well. Calculating the correlation coefficient can confirm this conclusion."
      ],
      "metadata": {
        "id": "yiqTMKryIdTj"
      }
    },
    {
      "cell_type": "code",
      "source": [
        "import statsmodels.formula.api as smf\n",
        "\n",
        "result = smf.ols(formula = 'TotalTackles ~ Forty', data = olb_data).fit()\n",
        "print('Correlation Coefficient for Tackles vs. Forty: {}'.format(result.rsquared))"
      ],
      "metadata": {
        "colab": {
          "base_uri": "https://localhost:8080/"
        },
        "id": "1K5ipR41I4Yk",
        "outputId": "04f43ac0-bc0d-4a2a-fb4e-098982546b0a"
      },
      "execution_count": 35,
      "outputs": [
        {
          "output_type": "stream",
          "name": "stdout",
          "text": [
            "Correlation Coefficient for Tackles vs. Forty: 0.02830406929294782\n"
          ]
        }
      ]
    },
    {
      "cell_type": "markdown",
      "source": [
        "# Sacks vs. 40-Yard Dash"
      ],
      "metadata": {
        "id": "TK8N3IyAKWAD"
      }
    },
    {
      "cell_type": "code",
      "source": [
        "model = calculate_lin_reg(olb_data, 'Forty', 'Sacks')\n",
        "\n",
        "unique_times = [[x] for x in olb_data['Forty'].unique()]\n",
        "\n",
        "ax = olb_data.plot('Forty', 'Sacks', kind = 'scatter', c = 'r')\n",
        "ax.plot(unique_times, [y for [y] in model.predict(unique_times)])\n",
        "plt.title('Sacks vs. Forty Time')\n",
        "plt.show()"
      ],
      "metadata": {
        "colab": {
          "base_uri": "https://localhost:8080/",
          "height": 295
        },
        "id": "LhEXbC0LKcXe",
        "outputId": "70f112eb-4985-45ef-fccb-0c5cda080f9a"
      },
      "execution_count": 25,
      "outputs": [
        {
          "output_type": "display_data",
          "data": {
            "text/plain": [
              "<Figure size 432x288 with 1 Axes>"
            ],
            "image/png": "[encoded data removed]"
          },
          "metadata": {
            "needs_background": "light"
          }
        }
      ]
    },
    {
      "cell_type": "markdown",
      "source": [
        "This linear regression line is clearly more fitting than the previous but calculating the correlation coefficient is still necessary."
      ],
      "metadata": {
        "id": "NzKYNcObKmD6"
      }
    },
    {
      "cell_type": "code",
      "source": [
        "result = smf.ols(formula = 'Sacks ~ Forty', data = olb_data).fit()\n",
        "print('Correlation Coefficient for Sacks vs. Forty: {}'.format(result.rsquared))"
      ],
      "metadata": {
        "colab": {
          "base_uri": "https://localhost:8080/"
        },
        "id": "5YRYlKXJK6W2",
        "outputId": "c6f7bd1f-bf40-48dd-9c27-fa0486d6b06a"
      },
      "execution_count": 36,
      "outputs": [
        {
          "output_type": "stream",
          "name": "stdout",
          "text": [
            "Correlation Coefficient for Sacks vs. Forty: 0.21535325556835483\n"
          ]
        }
      ]
    },
    {
      "cell_type": "markdown",
      "source": [
        "# Tackles vs. Cone Drill"
      ],
      "metadata": {
        "id": "ONk53vYlK9kN"
      }
    },
    {
      "cell_type": "code",
      "source": [
        "# Filtering the data into only those who have a cone time\n",
        "copy = pd.DataFrame(columns = ['Cone', 'TotalTackles', 'Sacks'])\n",
        "for index, row in olb_data.iterrows():\n",
        "    if row['Cone'] != 0:\n",
        "            copy.loc[len(copy.index)] = [row['Cone'], row['TotalTackles'], row['Sacks']]\n",
        "\n",
        "model = calculate_lin_reg(copy, 'Cone', 'TotalTackles')\n",
        "\n",
        "unique_times = [[x] for x in copy['Cone'].unique()]\n",
        "\n",
        "ax = copy.plot('Cone', 'TotalTackles', kind = 'scatter', c = 'r')\n",
        "ax.plot(unique_times, [y for [y] in model.predict(unique_times)])\n",
        "plt.title('Total Tackles vs. Cone Time')\n",
        "plt.show()"
      ],
      "metadata": {
        "colab": {
          "base_uri": "https://localhost:8080/",
          "height": 295
        },
        "id": "4KXAMvyBLBIQ",
        "outputId": "04fab3be-a32f-41d6-84dd-0a084ad1c1f5"
      },
      "execution_count": 27,
      "outputs": [
        {
          "output_type": "display_data",
          "data": {
            "text/plain": [
              "<Figure size 432x288 with 1 Axes>"
            ],
            "image/png": "[encoded data removed]"
          },
          "metadata": {
            "needs_background": "light"
          }
        }
      ]
    },
    {
      "cell_type": "markdown",
      "source": [
        "Contrary to expectation, the model has a positive correlation between cone time and tackles although there are significant residuals.  "
      ],
      "metadata": {
        "id": "PtfYlM-yMNbD"
      }
    },
    {
      "cell_type": "code",
      "source": [
        "result = smf.ols(formula = 'TotalTackles ~ Cone', data = copy).fit()\n",
        "print('Correlation Coefficient for Tackles vs. Cone: {}'.format(result.rsquared))"
      ],
      "metadata": {
        "colab": {
          "base_uri": "https://localhost:8080/"
        },
        "id": "cFmCaAqELDwY",
        "outputId": "acbf8a9f-c8b9-4f63-b4cd-2ff8a84cd0dc"
      },
      "execution_count": 37,
      "outputs": [
        {
          "output_type": "stream",
          "name": "stdout",
          "text": [
            "Correlation Coefficient for Tackles vs. Cone: 0.3689226189056173\n"
          ]
        }
      ]
    },
    {
      "cell_type": "markdown",
      "source": [
        "# Sacks vs. Cone Drill\n",
        "\n",
        "\n"
      ],
      "metadata": {
        "id": "TAaJddZLMnIR"
      }
    },
    {
      "cell_type": "code",
      "source": [
        "model = calculate_lin_reg(copy, 'Cone', 'Sacks')\n",
        "\n",
        "unique_times = [[x] for x in copy['Cone'].unique()]\n",
        "\n",
        "ax = copy.plot('Cone', 'Sacks', kind = 'scatter', c = 'r')\n",
        "ax.plot(unique_times, [y for [y] in model.predict(unique_times)])\n",
        "plt.title('Sacks vs. Cone Time')\n",
        "plt.show()"
      ],
      "metadata": {
        "colab": {
          "base_uri": "https://localhost:8080/",
          "height": 295
        },
        "id": "L1YOEgAGMpst",
        "outputId": "955c712e-eda2-4841-9af3-ff927eb62895"
      },
      "execution_count": 29,
      "outputs": [
        {
          "output_type": "display_data",
          "data": {
            "text/plain": [
              "<Figure size 432x288 with 1 Axes>"
            ],
            "image/png": "[encoded data removed]"
          },
          "metadata": {
            "needs_background": "light"
          }
        }
      ]
    },
    {
      "cell_type": "markdown",
      "source": [
        "There is clearly a negative linear correlation between two variables but the residuals are once again significant.\n",
        "\n"
      ],
      "metadata": {
        "id": "bIMwaY_8NNCV"
      }
    },
    {
      "cell_type": "code",
      "source": [
        "result = smf.ols(formula = 'Sacks ~ Cone', data = copy).fit()\n",
        "print('Correlation Coefficient for Sacks vs. Cone: {}'.format(result.rsquared))"
      ],
      "metadata": {
        "colab": {
          "base_uri": "https://localhost:8080/"
        },
        "id": "EQdvEnCzNWjL",
        "outputId": "c08f9b0e-3dc5-4132-d68b-df5dfc14b1ea"
      },
      "execution_count": 38,
      "outputs": [
        {
          "output_type": "stream",
          "name": "stdout",
          "text": [
            "Correlation Coefficient for Sacks vs. Cone: 0.3031799814044741\n"
          ]
        }
      ]
    },
    {
      "cell_type": "markdown",
      "source": [
        "Unfortunately, the correlation coefficients for all four relationships are not significant enough to declare any of the models as accurate. Nonetheless, it is still extremely interesting to observe the relationship between these variables. Most football fans would expect players with more impressive combine scores to produce more impressive statistics in the NFL but that clearly is not always the case. If the correlation coefficients had been greater than 0.9, the linear models could be used to estimate prospect's NFL success based on their combine times.\n",
        "\n"
      ],
      "metadata": {
        "id": "0t44q7Y9N0wK"
      }
    },
    {
      "cell_type": "markdown",
      "source": [
        "# Conclusion"
      ],
      "metadata": {
        "id": "DsCxKv7ssLzy"
      }
    },
    {
      "cell_type": "markdown",
      "source": [
        "Even though none of the correlations between combine metrics and NFL statistics are significant, there are still major points to be drawn from this series of tests. Namely, why isn't there a stronger relationship between the two? The combine seems to be one of the most influential forces in the draft yet there wasn't significant evidence supporting that an above average 40-yard dash or cone drill led to a prospect contributing more in the NFL. In the case of cone time and tackles for outside linebackers, a worse combine performance actually led to more tackles in the league.\n",
        "\n",
        "Despite the correlations not being statistically significant, the majority of relationships between variables still followed expectations. One of the most powerful was found between 40-yard dash time and interceptions for defensive backs. 92% of interceptions coming from the fastest 67% of prospects clearly demonstrates the importance of a 40-yard dash time.\n",
        "\n",
        "Intuitively, the more impressive a prospect performs at combine, the better he should play in the NFL. Being faster, stronger, or more agile than your opponents should be a distinct advantage that translates to a better statistical performance. Sadly, football isn't just a numbers game but that's exactly what makes it fun and beloved by fans. There will always be undrafted or late round players that become superstars just because football is so difficult to predict. Despite my failure to find a statistically significant correlation, I will still always look forward to the NFL combine and draft alike, along with the wave of emotions and surprises it entails."
      ],
      "metadata": {
        "id": "fLs6mutgOeev"
      }
    }
  ]
}